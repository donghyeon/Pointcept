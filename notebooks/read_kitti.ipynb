{
 "cells": [
  {
   "cell_type": "code",
   "execution_count": null,
   "metadata": {},
   "outputs": [],
   "source": [
    "from pathlib import Path\n",
    "\n",
    "import numpy as np\n",
    "import torch\n",
    "from torch.utils.data import Dataset"
   ]
  },
  {
   "cell_type": "code",
   "execution_count": null,
   "metadata": {},
   "outputs": [],
   "source": [
    "kitti_sequences_path = Path('/datasets/SemanticKITTI/dataset/sequences/')\n",
    "sequence_paths = sorted(list(kitti_sequences_path.iterdir()))"
   ]
  },
  {
   "cell_type": "code",
   "execution_count": null,
   "metadata": {},
   "outputs": [],
   "source": [
    "sequence_indices = {\n",
    "    'trainval': set(range(0, 11)),\n",
    "    'test': set(range(11, 22)),\n",
    "}\n",
    "\n",
    "sequence_indices['valid'] = {8}\n",
    "\n",
    "sequence_indices['train'] = sequence_indices['trainval'] - sequence_indices['valid']\n",
    "del sequence_indices['trainval']"
   ]
  },
  {
   "cell_type": "code",
   "execution_count": null,
   "metadata": {},
   "outputs": [],
   "source": [
    "splits = ['train', 'valid', 'test']\n",
    "sequence_id_strs = {\n",
    "    split: [f'{i:02d}' for i in sequence_indices[split]]\n",
    "    for split in splits\n",
    "}"
   ]
  },
  {
   "cell_type": "code",
   "execution_count": null,
   "metadata": {},
   "outputs": [],
   "source": [
    "def lidar_path(sequence_index: int, frame_index: int):\n",
    "    return kitti_sequences_path / f'{sequence_index:02d}' / 'velodyne' / f'{frame_index:06d}.bin'\n",
    "\n",
    "def label_path(sequence_index: int, frame_index: int):\n",
    "    return kitti_sequences_path / f'{sequence_index:02d}' / 'labels' / f'{frame_index:06d}.label'"
   ]
  },
  {
   "cell_type": "code",
   "execution_count": null,
   "metadata": {},
   "outputs": [],
   "source": [
    "def num_frames(sequence_index):\n",
    "    path = kitti_sequences_path / f'{sequence_index:02d}' / 'velodyne'\n",
    "    return len(list(path.iterdir()))"
   ]
  },
  {
   "cell_type": "code",
   "execution_count": null,
   "metadata": {},
   "outputs": [],
   "source": [
    "all_lidar_paths = {\n",
    "    split : {\n",
    "        index: sorted((kitti_sequences_path / f'{index:02d}' / 'velodyne').iterdir())\n",
    "        for index in sequence_indices[split]\n",
    "    }\n",
    "    for split in splits\n",
    "}\n",
    "\n",
    "all_label_paths = {\n",
    "    split : {\n",
    "        index: sorted((kitti_sequences_path / f'{index:02d}' / 'labels').iterdir())\n",
    "        for index in sequence_indices[split]\n",
    "    }\n",
    "    for split in splits\n",
    "    if split != 'test'\n",
    "}"
   ]
  },
  {
   "cell_type": "code",
   "execution_count": null,
   "metadata": {},
   "outputs": [],
   "source": [
    "lidar_voxel_length = {\n",
    "    split: {\n",
    "        index: len(all_lidar_paths[split][index])\n",
    "        for index in sequence_indices[split]\n",
    "    }\n",
    "    for split in splits\n",
    "}"
   ]
  },
  {
   "cell_type": "code",
   "execution_count": null,
   "metadata": {},
   "outputs": [],
   "source": [
    "label_voxel_length = {\n",
    "    split: {\n",
    "        index: len(all_label_paths[split][index])\n",
    "        for index in sequence_indices[split]\n",
    "    }\n",
    "    for split in splits\n",
    "    if split != 'test'\n",
    "}"
   ]
  },
  {
   "cell_type": "markdown",
   "metadata": {},
   "source": [
    "# Read data"
   ]
  },
  {
   "cell_type": "markdown",
   "metadata": {},
   "source": [
    "## Read lidara"
   ]
  },
  {
   "cell_type": "code",
   "execution_count": null,
   "metadata": {},
   "outputs": [],
   "source": [
    "with open(all_lidar_paths['train'][0][0]) as lidar_bin:\n",
    "    scan = np.fromfile(lidar_bin, dtype=np.float32).reshape(-1, 4)\n",
    "coord = scan[:, :3]\n",
    "strength = scan[:, 3:4]"
   ]
  },
  {
   "cell_type": "code",
   "execution_count": null,
   "metadata": {},
   "outputs": [],
   "source": [
    "scan"
   ]
  },
  {
   "cell_type": "code",
   "execution_count": null,
   "metadata": {},
   "outputs": [],
   "source": [
    "coord.shape"
   ]
  },
  {
   "cell_type": "code",
   "execution_count": null,
   "metadata": {},
   "outputs": [],
   "source": [
    "strength.shape"
   ]
  },
  {
   "cell_type": "code",
   "execution_count": null,
   "metadata": {},
   "outputs": [],
   "source": [
    "np.histogram(strength)"
   ]
  },
  {
   "cell_type": "markdown",
   "metadata": {},
   "source": [
    "## Read label"
   ]
  },
  {
   "cell_type": "code",
   "execution_count": null,
   "metadata": {},
   "outputs": [],
   "source": [
    "with open(all_label_paths['train'][0][0]) as label_bin:\n",
    "    segment = np.fromfile(label_bin, dtype=np.int32)"
   ]
  },
  {
   "cell_type": "code",
   "execution_count": null,
   "metadata": {},
   "outputs": [],
   "source": [
    "segment.shape"
   ]
  },
  {
   "cell_type": "code",
   "execution_count": null,
   "metadata": {},
   "outputs": [],
   "source": [
    "np.unique(segment & 0xFFFF)"
   ]
  }
 ],
 "metadata": {
  "language_info": {
   "name": "python"
  }
 },
 "nbformat": 4,
 "nbformat_minor": 2
}
