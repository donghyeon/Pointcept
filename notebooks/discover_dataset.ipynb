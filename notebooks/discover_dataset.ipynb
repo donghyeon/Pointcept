{
 "cells": [
  {
   "cell_type": "code",
   "execution_count": 1,
   "metadata": {},
   "outputs": [],
   "source": [
    "from pathlib import Path\n",
    "import pandas as pd"
   ]
  },
  {
   "cell_type": "markdown",
   "metadata": {},
   "source": [
    "# 데이터셋 확인"
   ]
  },
  {
   "cell_type": "code",
   "execution_count": 2,
   "metadata": {},
   "outputs": [],
   "source": [
    "dataset_dir = Path('/datasets/nia/230927')\n",
    "annotations_dir = dataset_dir / 'annotations'\n",
    "collections_dir = dataset_dir / 'collections'"
   ]
  },
  {
   "cell_type": "markdown",
   "metadata": {},
   "source": [
    "### 확장자 확인"
   ]
  },
  {
   "cell_type": "code",
   "execution_count": 3,
   "metadata": {},
   "outputs": [],
   "source": [
    "def get_all_suffixes(directory):\n",
    "    suffixes = set()\n",
    "    for p in Path(directory).rglob('*'):\n",
    "        if len(p.suffix) > 0:\n",
    "            suffixes.add(p.suffix)\n",
    "    return suffixes"
   ]
  },
  {
   "cell_type": "code",
   "execution_count": 4,
   "metadata": {},
   "outputs": [
    {
     "name": "stdout",
     "output_type": "stream",
     "text": [
      "확장자\n",
      "데이터 ['.csv', '.pcd', '.png']\n",
      "레이블 ['.json']\n"
     ]
    }
   ],
   "source": [
    "collections_suffixes = sorted(get_all_suffixes(collections_dir))\n",
    "annotations_suffixes = sorted(get_all_suffixes(annotations_dir))\n",
    "print('확장자')\n",
    "print('데이터', collections_suffixes)\n",
    "print('레이블', annotations_suffixes)"
   ]
  },
  {
   "cell_type": "markdown",
   "metadata": {},
   "source": [
    "### 채널 확인"
   ]
  },
  {
   "cell_type": "code",
   "execution_count": 8,
   "metadata": {},
   "outputs": [],
   "source": [
    "def get_all_channels(directory):\n",
    "    channels = set()\n",
    "    for p in Path(directory).rglob('*.*'):\n",
    "        channels.add(p.parts[-2])\n",
    "    return channels"
   ]
  },
  {
   "cell_type": "code",
   "execution_count": 9,
   "metadata": {},
   "outputs": [
    {
     "name": "stdout",
     "output_type": "stream",
     "text": [
      "채널\n",
      "데이터 ['gps', 'image_B', 'image_F', 'image_L', 'image_R', 'lidar', 'thermal']\n",
      "레이블 ['imageCaption', 'image_B', 'image_F', 'image_L', 'image_R', 'lidar', 'thermal']\n"
     ]
    }
   ],
   "source": [
    "collections_channels = sorted(get_all_channels(collections_dir))\n",
    "annotations_channels = sorted(get_all_channels(annotations_dir))\n",
    "print('채널')\n",
    "print('데이터', collections_channels)\n",
    "print('레이블', annotations_channels)"
   ]
  },
  {
   "cell_type": "markdown",
   "metadata": {},
   "source": [
    "### 채널-확장자 페어 확인"
   ]
  },
  {
   "cell_type": "code",
   "execution_count": 10,
   "metadata": {},
   "outputs": [],
   "source": [
    "def get_all_channel_suffix_pairs(directory):\n",
    "    pairs = set()\n",
    "    for p in Path(directory).rglob('*.*'):\n",
    "        pairs.add((p.parts[-2], p.suffix))\n",
    "    return pairs"
   ]
  },
  {
   "cell_type": "code",
   "execution_count": 11,
   "metadata": {},
   "outputs": [],
   "source": [
    "collections_pairs = get_all_channel_suffix_pairs(collections_dir)\n",
    "annotations_pairs = get_all_channel_suffix_pairs(annotations_dir)"
   ]
  },
  {
   "cell_type": "code",
   "execution_count": 12,
   "metadata": {},
   "outputs": [
    {
     "name": "stdout",
     "output_type": "stream",
     "text": [
      "확장자-채널 페어\n",
      "데이터 .csv: ['gps']\n",
      "데이터 .pcd: ['lidar']\n",
      "데이터 .png: ['image_B', 'image_F', 'image_L', 'image_R', 'thermal']\n",
      "레이블 .json: ['imageCaption', 'image_B', 'image_F', 'image_L', 'image_R', 'lidar', 'thermal']\n"
     ]
    }
   ],
   "source": [
    "print('확장자-채널 페어')\n",
    "for suffix in collections_suffixes:\n",
    "    matches = sorted([pair[0] for pair in collections_pairs if pair[1] == suffix])\n",
    "    print('데이터', f'{suffix}: {matches}')\n",
    "\n",
    "for suffix in annotations_suffixes:\n",
    "    matches = sorted([pair[0] for pair in annotations_pairs if pair[1] == suffix])\n",
    "    print('레이블', f'{suffix}: {matches}')"
   ]
  },
  {
   "cell_type": "markdown",
   "metadata": {},
   "source": [
    "# 디렉토리 구조 확인"
   ]
  },
  {
   "cell_type": "markdown",
   "metadata": {},
   "source": [
    "### 가시광, 열영상 이미지"
   ]
  },
  {
   "cell_type": "code",
   "execution_count": 13,
   "metadata": {},
   "outputs": [
    {
     "name": "stdout",
     "output_type": "stream",
     "text": [
      "이미지 collections/230823/230823_183210_K/230823_183210_K(3)/image_F/CK_A11_R04_erh_rainy_01005548_F.png\n",
      "레이블 annotations/230823/230823_183210_K/230823_183210_K(3)/image_F/CK_A11_R04_erh_rainy_01005600_F.png.json\n"
     ]
    }
   ],
   "source": [
    "image_sample_path = next(collections_dir.rglob('*/image_F/*.png'))\n",
    "label_sample_path = next(annotations_dir.rglob('*/image_F/*.json'))\n",
    "print('이미지', image_sample_path.relative_to(dataset_dir))\n",
    "print('레이블', label_sample_path.relative_to(dataset_dir))"
   ]
  },
  {
   "cell_type": "markdown",
   "metadata": {},
   "source": [
    "### 라이다 포인트 클라우드"
   ]
  },
  {
   "cell_type": "code",
   "execution_count": 14,
   "metadata": {},
   "outputs": [
    {
     "name": "stdout",
     "output_type": "stream",
     "text": [
      "라이다 collections/230823/230823_183210_K/230823_183210_K(3)/lidar/LK_A11_R04_erh_rainy_01005640.pcd\n",
      "레이블 annotations/230823/230823_183210_K/230823_183210_K(3)/lidar/LK_A11_R04_erh_rainy_01005614.json\n"
     ]
    }
   ],
   "source": [
    "image_sample_path = next(collections_dir.rglob('*/lidar/*.pcd'))\n",
    "label_sample_path = next(annotations_dir.rglob('*/lidar/*.json'))\n",
    "print('라이다', image_sample_path.relative_to(dataset_dir))\n",
    "print('레이블', label_sample_path.relative_to(dataset_dir))"
   ]
  },
  {
   "cell_type": "markdown",
   "metadata": {},
   "source": [
    "### 구조 형태"
   ]
  },
  {
   "cell_type": "code",
   "execution_count": 12,
   "metadata": {},
   "outputs": [
    {
     "name": "stdout",
     "output_type": "stream",
     "text": [
      "{date}/{date}_{time}_K/{date}_{time}_K({index})/{channel}/{filename}.{suffix}\n",
      "{YYMMDD}/{YYMMDD}_{HHMMSS}_K/{YYMMDD}_{HHMMSS}_K({index})/{channel}/{filename}.{suffix}\n"
     ]
    }
   ],
   "source": [
    "file_format = '{date}/{date}_{time}_K/{date}_{time}_K({index})/{channel}/{filename}.{suffix}'\n",
    "file_format_with_datetime = '{YYMMDD}/{YYMMDD}_{HHMMSS}_K/{YYMMDD}_{HHMMSS}_K({index})/{channel}/{filename}.{suffix}'\n",
    "print(file_format)\n",
    "print(file_format_with_datetime)"
   ]
  },
  {
   "cell_type": "markdown",
   "metadata": {},
   "source": [
    "### 데이터 수집 날짜 태그"
   ]
  },
  {
   "cell_type": "code",
   "execution_count": 13,
   "metadata": {},
   "outputs": [
    {
     "name": "stdout",
     "output_type": "stream",
     "text": [
      "데이터 수집 날짜 태그 ['230822', '230823', '230906_1_modify']\n"
     ]
    }
   ],
   "source": [
    "dates = [p.name for p in collections_dir.iterdir()]\n",
    "print('데이터 수집 날짜 태그', dates)"
   ]
  },
  {
   "cell_type": "markdown",
   "metadata": {},
   "source": [
    "### 데이터-레이블 구조 매칭 확인"
   ]
  },
  {
   "cell_type": "code",
   "execution_count": 14,
   "metadata": {},
   "outputs": [],
   "source": [
    "def get_all_subdirectories_above_channels_in_relative_to(directory):\n",
    "    subdirs = set()\n",
    "    for p in Path(directory).rglob('*.*'):\n",
    "        subdirs.add(p.parent.parent.relative_to(directory))\n",
    "    return subdirs"
   ]
  },
  {
   "cell_type": "code",
   "execution_count": 15,
   "metadata": {},
   "outputs": [],
   "source": [
    "collections_subdirs = get_all_subdirectories_above_channels_in_relative_to(collections_dir)\n",
    "annotations_subdirs = get_all_subdirectories_above_channels_in_relative_to(annotations_dir)"
   ]
  },
  {
   "cell_type": "code",
   "execution_count": 16,
   "metadata": {},
   "outputs": [
    {
     "name": "stdout",
     "output_type": "stream",
     "text": [
      "데이터 서브디렉토리 수 111\n",
      "레이블 서브디렉토리 수 132\n",
      "데이터 + 레이블 합집합 수 91\n",
      "데이터 - 레이블 차집합 수 20\n",
      "레이블 - 데이터 차집합 수 41\n"
     ]
    }
   ],
   "source": [
    "print('데이터 서브디렉토리 수', len(collections_subdirs))\n",
    "print('레이블 서브디렉토리 수', len(annotations_subdirs))\n",
    "print('데이터 + 레이블 합집합 수', len(collections_subdirs & annotations_subdirs))\n",
    "print('데이터 - 레이블 차집합 수', len(collections_subdirs - annotations_subdirs))\n",
    "print('레이블 - 데이터 차집합 수', len(annotations_subdirs - collections_subdirs))"
   ]
  },
  {
   "cell_type": "markdown",
   "metadata": {},
   "source": [
    "### 결론\n",
    "어딘가 데이터, 레이블 구조 간의 차이가 존재한다."
   ]
  },
  {
   "cell_type": "code",
   "execution_count": 17,
   "metadata": {},
   "outputs": [
    {
     "name": "stdout",
     "output_type": "stream",
     "text": [
      "데이터 - 레이블 차집합\n"
     ]
    },
    {
     "data": {
      "text/plain": [
       "{PosixPath('230906_1_modify/230906_095031_K'),\n",
       " PosixPath('230906_1_modify/230906_100857_K'),\n",
       " PosixPath('230906_1_modify/230906_101218_K'),\n",
       " PosixPath('230906_1_modify/230906_102055_K'),\n",
       " PosixPath('230906_1_modify/230906_102320_K'),\n",
       " PosixPath('230906_1_modify/230906_102507_K'),\n",
       " PosixPath('230906_1_modify/230906_103007_K'),\n",
       " PosixPath('230906_1_modify/230906_103143_K'),\n",
       " PosixPath('230906_1_modify/230906_103419_K'),\n",
       " PosixPath('230906_1_modify/230906_110706_K'),\n",
       " PosixPath('230906_1_modify/230906_110752_K'),\n",
       " PosixPath('230906_1_modify/230906_111433_K'),\n",
       " PosixPath('230906_1_modify/230906_113409_K'),\n",
       " PosixPath('230906_1_modify/230906_122254_K'),\n",
       " PosixPath('230906_1_modify/230906_122853_K'),\n",
       " PosixPath('230906_1_modify/230906_123652_K'),\n",
       " PosixPath('230906_1_modify/230906_123855_K'),\n",
       " PosixPath('230906_1_modify/230906_123940_K'),\n",
       " PosixPath('230906_1_modify/230906_124121_K'),\n",
       " PosixPath('230906_1_modify/230906_124330_K')}"
      ]
     },
     "execution_count": 17,
     "metadata": {},
     "output_type": "execute_result"
    }
   ],
   "source": [
    "print('데이터 - 레이블 차집합')\n",
    "collections_subdirs - annotations_subdirs"
   ]
  },
  {
   "cell_type": "code",
   "execution_count": 18,
   "metadata": {},
   "outputs": [
    {
     "name": "stdout",
     "output_type": "stream",
     "text": [
      "레이블 - 데이터 차집합\n"
     ]
    },
    {
     "data": {
      "text/plain": [
       "{PosixPath('230906_1_modify/230906_095031_K/230906_095031_K(1)'),\n",
       " PosixPath('230906_1_modify/230906_100857_K/230906_100857_K(1)'),\n",
       " PosixPath('230906_1_modify/230906_100857_K/230906_100857_K(2)'),\n",
       " PosixPath('230906_1_modify/230906_100857_K/230906_100857_K(5)'),\n",
       " PosixPath('230906_1_modify/230906_100857_K/230906_100857_K(6)'),\n",
       " PosixPath('230906_1_modify/230906_101218_K/230906_101218_K(1)'),\n",
       " PosixPath('230906_1_modify/230906_101218_K/230906_101218_K(2)'),\n",
       " PosixPath('230906_1_modify/230906_102055_K/230906_102055_K(1)'),\n",
       " PosixPath('230906_1_modify/230906_102055_K/230906_102055_K(2)'),\n",
       " PosixPath('230906_1_modify/230906_102055_K/230906_102055_K(3)'),\n",
       " PosixPath('230906_1_modify/230906_102320_K/230906_102320_K(1)'),\n",
       " PosixPath('230906_1_modify/230906_102507_K/230906_102507_K(3)'),\n",
       " PosixPath('230906_1_modify/230906_103007_K/230906_103007_K(1)'),\n",
       " PosixPath('230906_1_modify/230906_103007_K/230906_103007_K(3)'),\n",
       " PosixPath('230906_1_modify/230906_103007_K/230906_103007_K(4)'),\n",
       " PosixPath('230906_1_modify/230906_103143_K/230906_103143_K(1)'),\n",
       " PosixPath('230906_1_modify/230906_103419_K/230906_103419_K(1)'),\n",
       " PosixPath('230906_1_modify/230906_110706_K/230906_110706_K(1)'),\n",
       " PosixPath('230906_1_modify/230906_110752_K/230906_110752_K(1)'),\n",
       " PosixPath('230906_1_modify/230906_110752_K/230906_110752_K(2)'),\n",
       " PosixPath('230906_1_modify/230906_111433_K/230906_111433_K(1)'),\n",
       " PosixPath('230906_1_modify/230906_113409_K/230906_113409_K(1)'),\n",
       " PosixPath('230906_1_modify/230906_113409_K/230906_113409_K(2)'),\n",
       " PosixPath('230906_1_modify/230906_113409_K/230906_113409_K(3)'),\n",
       " PosixPath('230906_1_modify/230906_122254_K/230906_122254_K(1)'),\n",
       " PosixPath('230906_1_modify/230906_122254_K/230906_122254_K(2)'),\n",
       " PosixPath('230906_1_modify/230906_122254_K/230906_122254_K(3)'),\n",
       " PosixPath('230906_1_modify/230906_122254_K/230906_122254_K(4)'),\n",
       " PosixPath('230906_1_modify/230906_122853_K/230906_122853_K(1)'),\n",
       " PosixPath('230906_1_modify/230906_122853_K/230906_122853_K(2)'),\n",
       " PosixPath('230906_1_modify/230906_122853_K/230906_122853_K(3)'),\n",
       " PosixPath('230906_1_modify/230906_122853_K/230906_122853_K(4)'),\n",
       " PosixPath('230906_1_modify/230906_123652_K/230906_123652_K(1)'),\n",
       " PosixPath('230906_1_modify/230906_123652_K/230906_123652_K(2)'),\n",
       " PosixPath('230906_1_modify/230906_123855_K/230906_123855_K(1)'),\n",
       " PosixPath('230906_1_modify/230906_123940_K/230906_123940_K(1)'),\n",
       " PosixPath('230906_1_modify/230906_123940_K/230906_123940_K(2)'),\n",
       " PosixPath('230906_1_modify/230906_124121_K/230906_124121_K(1)'),\n",
       " PosixPath('230906_1_modify/230906_124121_K/230906_124121_K(2)'),\n",
       " PosixPath('230906_1_modify/230906_124330_K/230906_124330_K(1)'),\n",
       " PosixPath('230906_1_modify/230906_124330_K/230906_124330_K(2)')}"
      ]
     },
     "execution_count": 18,
     "metadata": {},
     "output_type": "execute_result"
    }
   ],
   "source": [
    "print('레이블 - 데이터 차집합')\n",
    "annotations_subdirs - collections_subdirs"
   ]
  },
  {
   "cell_type": "markdown",
   "metadata": {},
   "source": [
    "### 결론\n",
    "\n",
    "230906_1_modify/230916_{time}_K/ 하위 디렉토리 매칭이 안된다.\n",
    "\n",
    "기본 구조 형태에서 {date}_{time}_K({index}) 부분이 사라졌다.\n",
    "\n",
    "collections에서 위 구조 형태가 빠져있고, annotations에는 위 구조 형태를 유지한다."
   ]
  },
  {
   "cell_type": "code",
   "execution_count": 19,
   "metadata": {},
   "outputs": [
    {
     "name": "stdout",
     "output_type": "stream",
     "text": [
      "데이터 - 레이블 차집합 수 20\n",
      "레이블 - 데이터 차집합 상위 디렉토리 수 20\n",
      "데이터/230906_1_modify 하위 디렉토리 수 20\n"
     ]
    }
   ],
   "source": [
    "print('데이터 - 레이블 차집합 수', len(collections_subdirs - annotations_subdirs))\n",
    "print('레이블 - 데이터 차집합 상위 디렉토리 수', len({p.parent for p in (annotations_subdirs - collections_subdirs)}))\n",
    "print('데이터/230906_1_modify 하위 디렉토리 수', len(list((collections_dir / '230906_1_modify').iterdir())))"
   ]
  },
  {
   "cell_type": "code",
   "execution_count": 20,
   "metadata": {},
   "outputs": [
    {
     "name": "stdout",
     "output_type": "stream",
     "text": [
      "Q) 사라진 부분만 제외하면 상위 폴더 구조는 동일한가?\n",
      "A) True\n"
     ]
    }
   ],
   "source": [
    "print('Q) 사라진 부분만 제외하면 상위 폴더 구조는 동일한가?')\n",
    "print('A)', {p.parent for p in (annotations_subdirs - collections_subdirs)} == (collections_subdirs - annotations_subdirs))"
   ]
  },
  {
   "cell_type": "markdown",
   "metadata": {},
   "source": [
    "### 결론\n",
    "230906_1_modify 하위 폴더들은 이미지-레이블 페어 여부를 확실히 파악해야 한다."
   ]
  },
  {
   "cell_type": "markdown",
   "metadata": {},
   "source": [
    "## 이미지-레이블 페어 확인"
   ]
  },
  {
   "cell_type": "code",
   "execution_count": 21,
   "metadata": {},
   "outputs": [
    {
     "name": "stdout",
     "output_type": "stream",
     "text": [
      "Q) 사라진 부분만 제외하면 하위 폴더 구조는 동일한가?\n",
      "이미지 dataset/collections/230906_1_modify/230906_095031_K/image_F/CF_230906_095031_001.png\n",
      "레이블 dataset/annotations/230906_1_modify/230906_095031_K/230906_095031_K(1)/image_F/CK_A01_R01_day_clear_01008462_F.png.json\n",
      "A) 데이터의 파일명이 매칭되지 않는다.\n"
     ]
    }
   ],
   "source": [
    "print('Q) 사라진 부분만 제외하면 하위 폴더 구조는 동일한가?')\n",
    "print('이미지', next(collections_dir.rglob('230906_1_modify/**/image_F/*.png')))\n",
    "print('레이블', next(annotations_dir.rglob('230906_1_modify/**/image_F/*.json')))\n",
    "print('A) 데이터의 파일명이 매칭되지 않는다.')"
   ]
  },
  {
   "cell_type": "code",
   "execution_count": 22,
   "metadata": {},
   "outputs": [
    {
     "name": "stdout",
     "output_type": "stream",
     "text": [
      "Q) 최소한 데이터, 레이블의 숫자는 같은가?\n"
     ]
    },
    {
     "name": "stdout",
     "output_type": "stream",
     "text": [
      "전방 가시광 이미지 수 3600\n",
      "전방 가시광 레이블 수 3444\n",
      "A) 숫자마저도 다르다.\n"
     ]
    }
   ],
   "source": [
    "print('Q) 최소한 데이터, 레이블의 숫자는 같은가?')\n",
    "print('전방 가시광 이미지 수', len(list(collections_dir.rglob('230906_1_modify/**/image_F/*.png'))))\n",
    "print('전방 가시광 레이블 수', len(list(annotations_dir.rglob('230906_1_modify/**/image_F/*.json'))))\n",
    "print('A) 숫자마저도 다르다.')"
   ]
  },
  {
   "cell_type": "markdown",
   "metadata": {},
   "source": [
    "### 결론\n",
    "\n",
    "230906_1_modify 하위 디렉토리 파일들의 경우 어떤 이미지와 레이블이 매칭되는지 모른다.\n",
    "\n",
    "매칭 여부를 모르므로 현재 시점에선 학습, 추론에 사용이 불가능하다."
   ]
  },
  {
   "cell_type": "markdown",
   "metadata": {},
   "source": [
    "# 데이터-레이블 페어 확인"
   ]
  },
  {
   "cell_type": "code",
   "execution_count": 23,
   "metadata": {},
   "outputs": [],
   "source": [
    "def is_there_paired_label_for_image(path):\n",
    "    relative_path = Path(path).relative_to(collections_dir)\n",
    "    paired_annotation_path = Path(str(annotations_dir / relative_path) + '.json')\n",
    "    if paired_annotation_path.exists():\n",
    "        return True\n",
    "    else:\n",
    "        return False\n"
   ]
  },
  {
   "cell_type": "code",
   "execution_count": 24,
   "metadata": {},
   "outputs": [],
   "source": [
    "def is_there_paired_label_for_lidar(path):\n",
    "    relative_path = Path(path).relative_to(collections_dir)\n",
    "    paired_annotation_path = annotations_dir / relative_path.with_suffix('.json')\n",
    "    if paired_annotation_path.exists():\n",
    "        return True\n",
    "    else:\n",
    "        return False"
   ]
  },
  {
   "cell_type": "code",
   "execution_count": 25,
   "metadata": {},
   "outputs": [],
   "source": [
    "def find_unpaired_collection(path):\n",
    "    unpaired = []\n",
    "    collection_path = Path(path)\n",
    "    \n",
    "    for path in collection_path.rglob('*.png'):\n",
    "        if not is_there_paired_label_for_image(path):\n",
    "            unpaired.append(path)\n",
    "    \n",
    "    for path in collection_path.rglob('*.pcd'):\n",
    "        if not is_there_paired_label_for_lidar(path):\n",
    "            unpaired.append(path)\n",
    "\n",
    "    return unpaired"
   ]
  },
  {
   "cell_type": "code",
   "execution_count": 27,
   "metadata": {},
   "outputs": [],
   "source": [
    "unpaired = {}\n",
    "for date in dates:\n",
    "    unpaired[date] = find_unpaired_collection(collections_dir / date)"
   ]
  },
  {
   "cell_type": "code",
   "execution_count": 28,
   "metadata": {},
   "outputs": [
    {
     "name": "stdout",
     "output_type": "stream",
     "text": [
      "데이터-레이블 페어 확인\n",
      "날짜 230822 매칭 실패 데이터 개수 0\n",
      "날짜 230823 매칭 실패 데이터 개수 0\n",
      "날짜 230906_1_modify 매칭 실패 데이터 개수 21600\n"
     ]
    }
   ],
   "source": [
    "print('데이터-레이블 페어 확인')\n",
    "for date in dates:\n",
    "    print('날짜', date, '매칭 실패 데이터 개수', len(unpaired[date]))"
   ]
  }
 ],
 "metadata": {
  "kernelspec": {
   "display_name": "Python 3",
   "language": "python",
   "name": "python3"
  },
  "language_info": {
   "codemirror_mode": {
    "name": "ipython",
    "version": 3
   },
   "file_extension": ".py",
   "mimetype": "text/x-python",
   "name": "python",
   "nbconvert_exporter": "python",
   "pygments_lexer": "ipython3",
   "version": "3.10.12"
  },
  "orig_nbformat": 4
 },
 "nbformat": 4,
 "nbformat_minor": 2
}
