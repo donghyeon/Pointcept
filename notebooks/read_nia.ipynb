{
 "cells": [
  {
   "cell_type": "code",
   "execution_count": null,
   "metadata": {},
   "outputs": [],
   "source": [
    "from pathlib import Path\n",
    "\n",
    "import numpy as np\n",
    "import open3d as o3d\n",
    "import torch"
   ]
  },
  {
   "cell_type": "code",
   "execution_count": null,
   "metadata": {},
   "outputs": [],
   "source": [
    "import concurrent.futures\n",
    "num_workers = 8  # The number of threads or processes\n",
    "# mt_executor = concurrent.futures.ThreadPoolExecutor(num_workers)  # Use ThreadPoolExecutor for CPU-bound tasks.\n",
    "mp_executor = concurrent.futures.ProcessPoolExecutor(num_workers)  # Use ProcessPoolExecutor for I/O-bound tasks."
   ]
  },
  {
   "cell_type": "code",
   "execution_count": null,
   "metadata": {},
   "outputs": [],
   "source": [
    "nia_path = Path('/datasets/nia/')\n",
    "collections_path = nia_path / 'collections'\n",
    "annotations_path = nia_path / 'annotations'"
   ]
  },
  {
   "cell_type": "code",
   "execution_count": null,
   "metadata": {},
   "outputs": [],
   "source": [
    "lidar_paths = sorted(collections_path.rglob('[0-9]' * 6 + '/**/lidar/*.pcd'))\n",
    "# label_paths = sorted(annotations_path.rglob('[0-9]' * 6 + '/**/lidar/*.json'))\n",
    "label_paths = [\n",
    "    annotations_path / p.relative_to(collections_path).with_suffix('.json')\n",
    "    for p in lidar_paths\n",
    "]"
   ]
  },
  {
   "cell_type": "code",
   "execution_count": null,
   "metadata": {},
   "outputs": [],
   "source": [
    "def get_reflectivity_from_point_cloud(path):\n",
    "    cloud = o3d.t.io.read_point_cloud(str(path))\n",
    "    reflectivity = cloud.point['reflectivity'].numpy()\n",
    "    return reflectivity"
   ]
  },
  {
   "cell_type": "code",
   "execution_count": null,
   "metadata": {},
   "outputs": [],
   "source": [
    "with concurrent.futures.ProcessPoolExecutor(num_workers) as mp_executor:\n",
    "    reflectivities = mp_executor.map(get_reflectivity_from_point_cloud, lidar_paths)\n",
    "    reflectivities = list(reflectivities)\n",
    "    reflectivities = np.array(reflectivities)"
   ]
  },
  {
   "cell_type": "code",
   "execution_count": null,
   "metadata": {},
   "outputs": [],
   "source": [
    "all([\n",
    "    np.allclose(reflectivities[i], reflectivities[i].astype(int))\n",
    "    for i in range(len(reflectivities))\n",
    "])"
   ]
  },
  {
   "cell_type": "code",
   "execution_count": null,
   "metadata": {},
   "outputs": [],
   "source": [
    "(np.min(reflectivities), np.max(reflectivities))"
   ]
  },
  {
   "cell_type": "markdown",
   "metadata": {},
   "source": [
    "### 결론: NIA 수집 데이터의 reflective 열은 0-255의 정수 값을 가진다. normalize 해줄 필요가 있다."
   ]
  },
  {
   "cell_type": "code",
   "execution_count": null,
   "metadata": {},
   "outputs": [],
   "source": [
    "def get_positions_from_point_cloud(path):\n",
    "    cloud = o3d.t.io.read_point_cloud(str(path))\n",
    "    positions = cloud.point['positions'].numpy()\n",
    "    return positions"
   ]
  },
  {
   "cell_type": "code",
   "execution_count": null,
   "metadata": {},
   "outputs": [],
   "source": [
    "with concurrent.futures.ProcessPoolExecutor(num_workers) as mp_executor:\n",
    "    positions = mp_executor.map(get_positions_from_point_cloud, lidar_paths)\n",
    "    positions = list(positions)\n",
    "    positions = np.array(positions)"
   ]
  },
  {
   "cell_type": "code",
   "execution_count": null,
   "metadata": {},
   "outputs": [],
   "source": [
    "import json"
   ]
  },
  {
   "cell_type": "code",
   "execution_count": null,
   "metadata": {},
   "outputs": [],
   "source": [
    "print(lidar_paths[0].name)\n",
    "print(label_paths[0].name)"
   ]
  },
  {
   "cell_type": "code",
   "execution_count": null,
   "metadata": {},
   "outputs": [],
   "source": [
    "from scipy.spatial import cKDTree\n",
    "def find_common_points(cloud1, cloud2):\n",
    "    # Create a cKDTree object for each point cloud\n",
    "    tree1 = cKDTree(cloud1)\n",
    "    tree2 = cKDTree(cloud2)\n",
    "    \n",
    "    # Fast search indices of common points of two point clouds\n",
    "    # ex) indices: [[tree2_index_i], [tree2_index_j], [], ...]\n",
    "    # len(indices) == len(tree1)\n",
    "    common_point_indices = tree1.query_ball_tree(tree2, r=0)\n",
    "    \n",
    "    # overlapping_indices = []\n",
    "    # for i, indices in enumerate(common_point_indices):\n",
    "    #     for j in indices:\n",
    "    #         overlapping_indices.append((i, j))\n",
    "    \n",
    "    return common_point_indices"
   ]
  },
  {
   "cell_type": "code",
   "execution_count": null,
   "metadata": {},
   "outputs": [],
   "source": [
    "def read_json(json_path):\n",
    "    with open(json_path) as f:\n",
    "        label = json.load(f)\n",
    "    return label\n",
    "\n",
    "def create_segment_array(label_path, cloud_points):\n",
    "    label = read_json(label_path)\n",
    "\n",
    "    segment = np.ones((cloud_points.shape[0],), dtype=int) * -1\n",
    "\n",
    "    annotations = label['annotations']\n",
    "    for annotation in annotations:\n",
    "        instance_points = annotation['3D_points']\n",
    "        instance_class_id = annotation['class_id']\n",
    "\n",
    "        indices = find_common_points(instance_points, cloud_points)\n",
    "        indices = np.array(indices, dtype=int).reshape(-1)\n",
    "        segment[indices] = instance_class_id\n",
    "    \n",
    "    return segment"
   ]
  },
  {
   "cell_type": "code",
   "execution_count": null,
   "metadata": {},
   "outputs": [],
   "source": [
    "cloud = o3d.t.io.read_point_cloud(str(lidar_paths[0]))\n",
    "coord = cloud.point['positions'].numpy()\n",
    "strength = cloud.point['reflectivity'].numpy() / 255\n",
    "\n",
    "label = read_json(str(label_paths[0]))\n",
    "annotations = label['annotations']"
   ]
  },
  {
   "cell_type": "code",
   "execution_count": null,
   "metadata": {},
   "outputs": [],
   "source": [
    "all_instance_points = [annotation['3D_points'] for annotation in annotations]\n",
    "all_instance_class_ids = [annotation['class_id'] for annotation in annotations]"
   ]
  },
  {
   "cell_type": "code",
   "execution_count": null,
   "metadata": {},
   "outputs": [],
   "source": [
    "def extract_common_points(annotation):\n",
    "    instance_points = annotation['3D_points']\n",
    "    indices = find_common_points(instance_points, coord)\n",
    "    indices = np.array(indices, dtype=int).reshape(-1)\n",
    "    return indices\n",
    "\n",
    "segment = np.ones((coord.shape[0],), dtype=int) * -1\n",
    "with concurrent.futures.ProcessPoolExecutor(num_workers) as mp_executor:\n",
    "    all_instance_indices = mp_executor.map(extract_common_points, annotations)\n",
    "    all_instance_indices = list(all_instance_indices)\n",
    "\n",
    "for indices, class_id in zip(all_instance_indices, all_instance_class_ids):\n",
    "    segment[indices] = class_id"
   ]
  },
  {
   "cell_type": "code",
   "execution_count": null,
   "metadata": {},
   "outputs": [],
   "source": [
    "segment = create_segment_array(str(label_paths[0]), coord)"
   ]
  },
  {
   "cell_type": "code",
   "execution_count": null,
   "metadata": {},
   "outputs": [],
   "source": [
    "np.unique(segment)"
   ]
  },
  {
   "cell_type": "code",
   "execution_count": null,
   "metadata": {},
   "outputs": [],
   "source": [
    "annotations = label['annotations']\n",
    "for annotation in annotations:\n",
    "    instance_points = annotation['3D_points']\n",
    "    instance_class_id = annotation['class_id']\n",
    "\n",
    "    indices = find_common_points(instance_points, positions)\n",
    "    indices = np.array(indices, dtype=int).reshape(-1)\n",
    "    print(indices)\n",
    "    break"
   ]
  },
  {
   "cell_type": "code",
   "execution_count": null,
   "metadata": {},
   "outputs": [],
   "source": [
    "[len(label['annotations'][i]['3D_points']) for i in range(len(label['annotations']))]"
   ]
  }
 ],
 "metadata": {
  "language_info": {
   "name": "python"
  }
 },
 "nbformat": 4,
 "nbformat_minor": 2
}
