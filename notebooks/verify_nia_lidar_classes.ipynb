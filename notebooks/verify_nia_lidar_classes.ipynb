{
 "cells": [
  {
   "cell_type": "code",
   "execution_count": null,
   "metadata": {},
   "outputs": [],
   "source": [
    "import numpy as np\n",
    "from pointcept.datasets import NiaCycle1Dataset\n",
    "nia_dataset = NiaCycle1Dataset(data_root='/datasets/nia/', split=[\"train\", \"val\", \"test\"])"
   ]
  },
  {
   "cell_type": "code",
   "execution_count": null,
   "metadata": {},
   "outputs": [],
   "source": [
    "import json\n",
    "import datetime"
   ]
  },
  {
   "cell_type": "code",
   "execution_count": null,
   "metadata": {},
   "outputs": [],
   "source": [
    "paths = nia_dataset.get_data_list()\n",
    "\n",
    "unique_classes = set()\n",
    "for i, p in enumerate(paths):\n",
    "    if i % 100 == 0:\n",
    "        print(datetime.datetime.now().strftime(\"%H:%M:%S\"), i)\n",
    "    json_path = p[1]\n",
    "    with open(json_path) as f:\n",
    "        label = json.load(f)\n",
    "    \n",
    "    annotations = label['annotations']\n",
    "    for annotation in annotations:\n",
    "        instance_class_id = annotation['class_id']\n",
    "        instance_class_name = annotation['class']\n",
    "        unique_classes.add((instance_class_id, instance_class_name))\n",
    "    "
   ]
  },
  {
   "cell_type": "code",
   "execution_count": null,
   "metadata": {},
   "outputs": [],
   "source": [
    "print(unique_classes)"
   ]
  }
 ],
 "metadata": {
  "language_info": {
   "name": "python"
  }
 },
 "nbformat": 4,
 "nbformat_minor": 2
}
