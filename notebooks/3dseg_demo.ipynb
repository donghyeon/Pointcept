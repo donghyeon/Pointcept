{
 "cells": [
  {
   "cell_type": "markdown",
   "id": "e4dbaafb-2e62-4103-ac94-1e352f391daa",
   "metadata": {},
   "source": [
    "# 모델 학습"
   ]
  },
  {
   "cell_type": "code",
   "execution_count": null,
   "metadata": {},
   "outputs": [],
   "source": [
    "!bash scripts/train.sh -g 1 -d nia_cycle1 -w exp/pretrained/pt-v2m2-keys-modified.pth -c semseg-pt-v2m2-1-ft -n semseg-pt-v2m2-1-ft-demo"
   ]
  }
 ],
 "metadata": {
  "kernelspec": {
   "display_name": "Python 3 (ipykernel)",
   "language": "python",
   "name": "python3"
  },
  "language_info": {
   "codemirror_mode": {
    "name": "ipython",
    "version": 3
   },
   "file_extension": ".py",
   "mimetype": "text/x-python",
   "name": "python",
   "nbconvert_exporter": "python",
   "pygments_lexer": "ipython3",
   "version": "3.10.12"
  }
 },
 "nbformat": 4,
 "nbformat_minor": 5
}
