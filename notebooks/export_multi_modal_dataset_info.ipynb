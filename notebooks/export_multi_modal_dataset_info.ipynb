{
 "cells": [
  {
   "cell_type": "code",
   "execution_count": 1,
   "metadata": {},
   "outputs": [],
   "source": [
    "import polars as pl\n",
    "\n",
    "from nia_dataset_reader import (\n",
    "    NiaDataPathExtractor,\n",
    "    DataFrameSplitter,\n",
    "    NiaDataPathProvider,\n",
    ")"
   ]
  },
  {
   "cell_type": "markdown",
   "metadata": {},
   "source": [
    "# 데이터셋 경로 설정"
   ]
  },
  {
   "cell_type": "code",
   "execution_count": 2,
   "metadata": {},
   "outputs": [],
   "source": [
    "dataset_dir = \"/aidata-2023-044-058/058.생활도로 객체인식 자율주행 데이터/1.구축과정산출물/2.최종검증/1.Datasets/\"  # S3 내부 경로\n",
    "dataset_dir = \"/datasets/nia/\"  # 도커 컨테이너 내부 경로 (마운트 필요)"
   ]
  },
  {
   "cell_type": "markdown",
   "metadata": {},
   "source": [
    "# 데이터셋 경로 추출"
   ]
  },
  {
   "cell_type": "code",
   "execution_count": 3,
   "metadata": {},
   "outputs": [],
   "source": [
    "path_extractor = NiaDataPathExtractor(\n",
    "    dataset_dir=dataset_dir,\n",
    "    pattern=(\n",
    "        r\"(?P<type>[^/]+)/\"\n",
    "        r\"(?P<collector>[^/]+)/\"\n",
    "        r\".*?\"\n",
    "        r\"(?P<channel>[^/]+)/\"\n",
    "        r\"(?P<filename>[^/]+)$\"\n",
    "    ),\n",
    ")"
   ]
  },
  {
   "cell_type": "markdown",
   "metadata": {},
   "source": [
    "### 멀티모달 데이터 랜덤 스플릿"
   ]
  },
  {
   "cell_type": "code",
   "execution_count": 4,
   "metadata": {},
   "outputs": [],
   "source": [
    "splitter = DataFrameSplitter(\n",
    "    groups=[\"collector\", \"scene\", \"road\", \"timeslot\", \"weather\"],\n",
    "    splits=[\"train\", \"valid\", \"test\"],\n",
    "    ratios=[8, 1, 1],\n",
    "    seed=231111,\n",
    ")"
   ]
  },
  {
   "cell_type": "code",
   "execution_count": 5,
   "metadata": {},
   "outputs": [],
   "source": [
    "nia_df = splitter.random_split(\n",
    "    path_extractor.paired_df,\n",
    ")"
   ]
  },
  {
   "cell_type": "code",
   "execution_count": 6,
   "metadata": {},
   "outputs": [
    {
     "data": {
      "text/html": [
       "<div><style>\n",
       ".dataframe > thead > tr,\n",
       ".dataframe > tbody > tr {\n",
       "  text-align: right;\n",
       "  white-space: pre-wrap;\n",
       "}\n",
       "</style>\n",
       "<small>shape: (620_026, 13)</small><table border=\"1\" class=\"dataframe\"><thead><tr><th>index</th><th>stem</th><th>collector</th><th>channel</th><th>sensor</th><th>scene</th><th>road</th><th>timeslot</th><th>weather</th><th>annotation_id</th><th>collection_path</th><th>annotation_path</th><th>split</th></tr><tr><td>u32</td><td>str</td><td>str</td><td>str</td><td>str</td><td>str</td><td>str</td><td>str</td><td>str</td><td>str</td><td>str</td><td>str</td><td>str</td></tr></thead><tbody><tr><td>0</td><td>&quot;CK_A01_R01_day…</td><td>&quot;calib(K)&quot;</td><td>&quot;image_B&quot;</td><td>&quot;CK&quot;</td><td>&quot;A01&quot;</td><td>&quot;R01&quot;</td><td>&quot;day&quot;</td><td>&quot;clear&quot;</td><td>&quot;01008462&quot;</td><td>&quot;/datasets/nia/…</td><td>&quot;/datasets/nia/…</td><td>&quot;train&quot;</td></tr><tr><td>0</td><td>&quot;CK_A01_R01_day…</td><td>&quot;calib(K)&quot;</td><td>&quot;image_F&quot;</td><td>&quot;CK&quot;</td><td>&quot;A01&quot;</td><td>&quot;R01&quot;</td><td>&quot;day&quot;</td><td>&quot;clear&quot;</td><td>&quot;01008462&quot;</td><td>&quot;/datasets/nia/…</td><td>&quot;/datasets/nia/…</td><td>&quot;train&quot;</td></tr><tr><td>0</td><td>&quot;CK_A01_R01_day…</td><td>&quot;calib(K)&quot;</td><td>&quot;keypoint&quot;</td><td>&quot;CK&quot;</td><td>&quot;A01&quot;</td><td>&quot;R01&quot;</td><td>&quot;day&quot;</td><td>&quot;clear&quot;</td><td>&quot;01008462&quot;</td><td>&quot;/datasets/nia/…</td><td>&quot;/datasets/nia/…</td><td>&quot;train&quot;</td></tr><tr><td>0</td><td>&quot;CK_A01_R01_day…</td><td>&quot;calib(K)&quot;</td><td>&quot;image_L&quot;</td><td>&quot;CK&quot;</td><td>&quot;A01&quot;</td><td>&quot;R01&quot;</td><td>&quot;day&quot;</td><td>&quot;clear&quot;</td><td>&quot;01008462&quot;</td><td>&quot;/datasets/nia/…</td><td>&quot;/datasets/nia/…</td><td>&quot;train&quot;</td></tr><tr><td>0</td><td>&quot;CK_A01_R01_day…</td><td>&quot;calib(K)&quot;</td><td>&quot;image_R&quot;</td><td>&quot;CK&quot;</td><td>&quot;A01&quot;</td><td>&quot;R01&quot;</td><td>&quot;day&quot;</td><td>&quot;clear&quot;</td><td>&quot;01008462&quot;</td><td>&quot;/datasets/nia/…</td><td>&quot;/datasets/nia/…</td><td>&quot;train&quot;</td></tr><tr><td>0</td><td>&quot;LK_A01_R01_day…</td><td>&quot;calib(K)&quot;</td><td>&quot;lidar&quot;</td><td>&quot;LK&quot;</td><td>&quot;A01&quot;</td><td>&quot;R01&quot;</td><td>&quot;day&quot;</td><td>&quot;clear&quot;</td><td>&quot;01008462&quot;</td><td>&quot;/datasets/nia/…</td><td>&quot;/datasets/nia/…</td><td>&quot;train&quot;</td></tr><tr><td>0</td><td>&quot;TK_A01_R01_day…</td><td>&quot;calib(K)&quot;</td><td>&quot;thermal&quot;</td><td>&quot;TK&quot;</td><td>&quot;A01&quot;</td><td>&quot;R01&quot;</td><td>&quot;day&quot;</td><td>&quot;clear&quot;</td><td>&quot;01008462&quot;</td><td>&quot;/datasets/nia/…</td><td>&quot;/datasets/nia/…</td><td>&quot;train&quot;</td></tr><tr><td>1</td><td>&quot;CK_A01_R01_day…</td><td>&quot;calib(K)&quot;</td><td>&quot;image_B&quot;</td><td>&quot;CK&quot;</td><td>&quot;A01&quot;</td><td>&quot;R01&quot;</td><td>&quot;day&quot;</td><td>&quot;clear&quot;</td><td>&quot;01008463&quot;</td><td>&quot;/datasets/nia/…</td><td>&quot;/datasets/nia/…</td><td>&quot;train&quot;</td></tr><tr><td>1</td><td>&quot;CK_A01_R01_day…</td><td>&quot;calib(K)&quot;</td><td>&quot;image_F&quot;</td><td>&quot;CK&quot;</td><td>&quot;A01&quot;</td><td>&quot;R01&quot;</td><td>&quot;day&quot;</td><td>&quot;clear&quot;</td><td>&quot;01008463&quot;</td><td>&quot;/datasets/nia/…</td><td>&quot;/datasets/nia/…</td><td>&quot;train&quot;</td></tr><tr><td>1</td><td>&quot;CK_A01_R01_day…</td><td>&quot;calib(K)&quot;</td><td>&quot;image_L&quot;</td><td>&quot;CK&quot;</td><td>&quot;A01&quot;</td><td>&quot;R01&quot;</td><td>&quot;day&quot;</td><td>&quot;clear&quot;</td><td>&quot;01008463&quot;</td><td>&quot;/datasets/nia/…</td><td>&quot;/datasets/nia/…</td><td>&quot;train&quot;</td></tr><tr><td>1</td><td>&quot;CK_A01_R01_day…</td><td>&quot;calib(K)&quot;</td><td>&quot;image_R&quot;</td><td>&quot;CK&quot;</td><td>&quot;A01&quot;</td><td>&quot;R01&quot;</td><td>&quot;day&quot;</td><td>&quot;clear&quot;</td><td>&quot;01008463&quot;</td><td>&quot;/datasets/nia/…</td><td>&quot;/datasets/nia/…</td><td>&quot;train&quot;</td></tr><tr><td>1</td><td>&quot;LK_A01_R01_day…</td><td>&quot;calib(K)&quot;</td><td>&quot;lidar&quot;</td><td>&quot;LK&quot;</td><td>&quot;A01&quot;</td><td>&quot;R01&quot;</td><td>&quot;day&quot;</td><td>&quot;clear&quot;</td><td>&quot;01008463&quot;</td><td>&quot;/datasets/nia/…</td><td>&quot;/datasets/nia/…</td><td>&quot;train&quot;</td></tr><tr><td>&hellip;</td><td>&hellip;</td><td>&hellip;</td><td>&hellip;</td><td>&hellip;</td><td>&hellip;</td><td>&hellip;</td><td>&hellip;</td><td>&hellip;</td><td>&hellip;</td><td>&hellip;</td><td>&hellip;</td><td>&hellip;</td></tr><tr><td>99998</td><td>&quot;CV_B14_R06_lun…</td><td>&quot;calib(V)&quot;</td><td>&quot;image_B&quot;</td><td>&quot;CV&quot;</td><td>&quot;B14&quot;</td><td>&quot;R06&quot;</td><td>&quot;lunch&quot;</td><td>&quot;rainy&quot;</td><td>&quot;01115058&quot;</td><td>&quot;/datasets/nia/…</td><td>&quot;/datasets/nia/…</td><td>&quot;train&quot;</td></tr><tr><td>99998</td><td>&quot;CV_B14_R06_lun…</td><td>&quot;calib(V)&quot;</td><td>&quot;image_F&quot;</td><td>&quot;CV&quot;</td><td>&quot;B14&quot;</td><td>&quot;R06&quot;</td><td>&quot;lunch&quot;</td><td>&quot;rainy&quot;</td><td>&quot;01115058&quot;</td><td>&quot;/datasets/nia/…</td><td>&quot;/datasets/nia/…</td><td>&quot;train&quot;</td></tr><tr><td>99998</td><td>&quot;CV_B14_R06_lun…</td><td>&quot;calib(V)&quot;</td><td>&quot;image_L&quot;</td><td>&quot;CV&quot;</td><td>&quot;B14&quot;</td><td>&quot;R06&quot;</td><td>&quot;lunch&quot;</td><td>&quot;rainy&quot;</td><td>&quot;01115058&quot;</td><td>&quot;/datasets/nia/…</td><td>&quot;/datasets/nia/…</td><td>&quot;train&quot;</td></tr><tr><td>99998</td><td>&quot;CV_B14_R06_lun…</td><td>&quot;calib(V)&quot;</td><td>&quot;image_R&quot;</td><td>&quot;CV&quot;</td><td>&quot;B14&quot;</td><td>&quot;R06&quot;</td><td>&quot;lunch&quot;</td><td>&quot;rainy&quot;</td><td>&quot;01115058&quot;</td><td>&quot;/datasets/nia/…</td><td>&quot;/datasets/nia/…</td><td>&quot;train&quot;</td></tr><tr><td>99998</td><td>&quot;LV_B14_R06_lun…</td><td>&quot;calib(V)&quot;</td><td>&quot;lidar&quot;</td><td>&quot;LV&quot;</td><td>&quot;B14&quot;</td><td>&quot;R06&quot;</td><td>&quot;lunch&quot;</td><td>&quot;rainy&quot;</td><td>&quot;01115058&quot;</td><td>&quot;/datasets/nia/…</td><td>&quot;/datasets/nia/…</td><td>&quot;train&quot;</td></tr><tr><td>99998</td><td>&quot;TV_B14_R06_lun…</td><td>&quot;calib(V)&quot;</td><td>&quot;thermal&quot;</td><td>&quot;TV&quot;</td><td>&quot;B14&quot;</td><td>&quot;R06&quot;</td><td>&quot;lunch&quot;</td><td>&quot;rainy&quot;</td><td>&quot;01115058&quot;</td><td>&quot;/datasets/nia/…</td><td>&quot;/datasets/nia/…</td><td>&quot;train&quot;</td></tr><tr><td>99999</td><td>&quot;CV_B14_R06_lun…</td><td>&quot;calib(V)&quot;</td><td>&quot;image_B&quot;</td><td>&quot;CV&quot;</td><td>&quot;B14&quot;</td><td>&quot;R06&quot;</td><td>&quot;lunch&quot;</td><td>&quot;rainy&quot;</td><td>&quot;01115059&quot;</td><td>&quot;/datasets/nia/…</td><td>&quot;/datasets/nia/…</td><td>&quot;train&quot;</td></tr><tr><td>99999</td><td>&quot;CV_B14_R06_lun…</td><td>&quot;calib(V)&quot;</td><td>&quot;image_F&quot;</td><td>&quot;CV&quot;</td><td>&quot;B14&quot;</td><td>&quot;R06&quot;</td><td>&quot;lunch&quot;</td><td>&quot;rainy&quot;</td><td>&quot;01115059&quot;</td><td>&quot;/datasets/nia/…</td><td>&quot;/datasets/nia/…</td><td>&quot;train&quot;</td></tr><tr><td>99999</td><td>&quot;CV_B14_R06_lun…</td><td>&quot;calib(V)&quot;</td><td>&quot;image_L&quot;</td><td>&quot;CV&quot;</td><td>&quot;B14&quot;</td><td>&quot;R06&quot;</td><td>&quot;lunch&quot;</td><td>&quot;rainy&quot;</td><td>&quot;01115059&quot;</td><td>&quot;/datasets/nia/…</td><td>&quot;/datasets/nia/…</td><td>&quot;train&quot;</td></tr><tr><td>99999</td><td>&quot;CV_B14_R06_lun…</td><td>&quot;calib(V)&quot;</td><td>&quot;image_R&quot;</td><td>&quot;CV&quot;</td><td>&quot;B14&quot;</td><td>&quot;R06&quot;</td><td>&quot;lunch&quot;</td><td>&quot;rainy&quot;</td><td>&quot;01115059&quot;</td><td>&quot;/datasets/nia/…</td><td>&quot;/datasets/nia/…</td><td>&quot;train&quot;</td></tr><tr><td>99999</td><td>&quot;LV_B14_R06_lun…</td><td>&quot;calib(V)&quot;</td><td>&quot;lidar&quot;</td><td>&quot;LV&quot;</td><td>&quot;B14&quot;</td><td>&quot;R06&quot;</td><td>&quot;lunch&quot;</td><td>&quot;rainy&quot;</td><td>&quot;01115059&quot;</td><td>&quot;/datasets/nia/…</td><td>&quot;/datasets/nia/…</td><td>&quot;train&quot;</td></tr><tr><td>99999</td><td>&quot;TV_B14_R06_lun…</td><td>&quot;calib(V)&quot;</td><td>&quot;thermal&quot;</td><td>&quot;TV&quot;</td><td>&quot;B14&quot;</td><td>&quot;R06&quot;</td><td>&quot;lunch&quot;</td><td>&quot;rainy&quot;</td><td>&quot;01115059&quot;</td><td>&quot;/datasets/nia/…</td><td>&quot;/datasets/nia/…</td><td>&quot;train&quot;</td></tr></tbody></table></div>"
      ],
      "text/plain": [
       "shape: (620_026, 13)\n",
       "┌───────┬─────────────┬───────────┬──────────┬───┬─────────────┬─────────────┬─────────────┬───────┐\n",
       "│ index ┆ stem        ┆ collector ┆ channel  ┆ … ┆ annotation_ ┆ collection_ ┆ annotation_ ┆ split │\n",
       "│ ---   ┆ ---         ┆ ---       ┆ ---      ┆   ┆ id          ┆ path        ┆ path        ┆ ---   │\n",
       "│ u32   ┆ str         ┆ str       ┆ str      ┆   ┆ ---         ┆ ---         ┆ ---         ┆ str   │\n",
       "│       ┆             ┆           ┆          ┆   ┆ str         ┆ str         ┆ str         ┆       │\n",
       "╞═══════╪═════════════╪═══════════╪══════════╪═══╪═════════════╪═════════════╪═════════════╪═══════╡\n",
       "│ 0     ┆ CK_A01_R01_ ┆ calib(K)  ┆ image_B  ┆ … ┆ 01008462    ┆ /datasets/n ┆ /datasets/n ┆ train │\n",
       "│       ┆ day_clear_0 ┆           ┆          ┆   ┆             ┆ ia/1.원천데 ┆ ia/2.라벨링 ┆       │\n",
       "│       ┆ 1008462_B   ┆           ┆          ┆   ┆             ┆ 이터/calib( ┆ 데이터/cali ┆       │\n",
       "│       ┆             ┆           ┆          ┆   ┆             ┆ K)/가…      ┆ b(K)/…      ┆       │\n",
       "│ 0     ┆ CK_A01_R01_ ┆ calib(K)  ┆ image_F  ┆ … ┆ 01008462    ┆ /datasets/n ┆ /datasets/n ┆ train │\n",
       "│       ┆ day_clear_0 ┆           ┆          ┆   ┆             ┆ ia/1.원천데 ┆ ia/2.라벨링 ┆       │\n",
       "│       ┆ 1008462_F   ┆           ┆          ┆   ┆             ┆ 이터/calib( ┆ 데이터/cali ┆       │\n",
       "│       ┆             ┆           ┆          ┆   ┆             ┆ K)/가…      ┆ b(K)/…      ┆       │\n",
       "│ 0     ┆ CK_A01_R01_ ┆ calib(K)  ┆ keypoint ┆ … ┆ 01008462    ┆ /datasets/n ┆ /datasets/n ┆ train │\n",
       "│       ┆ day_clear_0 ┆           ┆          ┆   ┆             ┆ ia/1.원천데 ┆ ia/2.라벨링 ┆       │\n",
       "│       ┆ 1008462_F   ┆           ┆          ┆   ┆             ┆ 이터/calib( ┆ 데이터/서브 ┆       │\n",
       "│       ┆             ┆           ┆          ┆   ┆             ┆ K)/가…      ┆ 라벨링/key… ┆       │\n",
       "│ 0     ┆ CK_A01_R01_ ┆ calib(K)  ┆ image_L  ┆ … ┆ 01008462    ┆ /datasets/n ┆ /datasets/n ┆ train │\n",
       "│       ┆ day_clear_0 ┆           ┆          ┆   ┆             ┆ ia/1.원천데 ┆ ia/2.라벨링 ┆       │\n",
       "│       ┆ 1008462_L   ┆           ┆          ┆   ┆             ┆ 이터/calib( ┆ 데이터/cali ┆       │\n",
       "│       ┆             ┆           ┆          ┆   ┆             ┆ K)/가…      ┆ b(K)/…      ┆       │\n",
       "│ …     ┆ …           ┆ …         ┆ …        ┆ … ┆ …           ┆ …           ┆ …           ┆ …     │\n",
       "│ 99999 ┆ CV_B14_R06_ ┆ calib(V)  ┆ image_L  ┆ … ┆ 01115059    ┆ /datasets/n ┆ /datasets/n ┆ train │\n",
       "│       ┆ lunch_rainy ┆           ┆          ┆   ┆             ┆ ia/1.원천데 ┆ ia/2.라벨링 ┆       │\n",
       "│       ┆ _01115059_… ┆           ┆          ┆   ┆             ┆ 이터/calib( ┆ 데이터/cali ┆       │\n",
       "│       ┆             ┆           ┆          ┆   ┆             ┆ V)/가…      ┆ b(V)/…      ┆       │\n",
       "│ 99999 ┆ CV_B14_R06_ ┆ calib(V)  ┆ image_R  ┆ … ┆ 01115059    ┆ /datasets/n ┆ /datasets/n ┆ train │\n",
       "│       ┆ lunch_rainy ┆           ┆          ┆   ┆             ┆ ia/1.원천데 ┆ ia/2.라벨링 ┆       │\n",
       "│       ┆ _01115059_… ┆           ┆          ┆   ┆             ┆ 이터/calib( ┆ 데이터/cali ┆       │\n",
       "│       ┆             ┆           ┆          ┆   ┆             ┆ V)/가…      ┆ b(V)/…      ┆       │\n",
       "│ 99999 ┆ LV_B14_R06_ ┆ calib(V)  ┆ lidar    ┆ … ┆ 01115059    ┆ /datasets/n ┆ /datasets/n ┆ train │\n",
       "│       ┆ lunch_rainy ┆           ┆          ┆   ┆             ┆ ia/1.원천데 ┆ ia/2.라벨링 ┆       │\n",
       "│       ┆ _01115059   ┆           ┆          ┆   ┆             ┆ 이터/calib( ┆ 데이터/cali ┆       │\n",
       "│       ┆             ┆           ┆          ┆   ┆             ┆ V)/라…      ┆ b(V)/…      ┆       │\n",
       "│ 99999 ┆ TV_B14_R06_ ┆ calib(V)  ┆ thermal  ┆ … ┆ 01115059    ┆ /datasets/n ┆ /datasets/n ┆ train │\n",
       "│       ┆ lunch_rainy ┆           ┆          ┆   ┆             ┆ ia/1.원천데 ┆ ia/2.라벨링 ┆       │\n",
       "│       ┆ _01115059   ┆           ┆          ┆   ┆             ┆ 이터/calib( ┆ 데이터/cali ┆       │\n",
       "│       ┆             ┆           ┆          ┆   ┆             ┆ V)/열…      ┆ b(V)/…      ┆       │\n",
       "└───────┴─────────────┴───────────┴──────────┴───┴─────────────┴─────────────┴─────────────┴───────┘"
      ]
     },
     "execution_count": 6,
     "metadata": {},
     "output_type": "execute_result"
    }
   ],
   "source": [
    "nia_df"
   ]
  },
  {
   "cell_type": "markdown",
   "metadata": {},
   "source": [
    "### 채널별, 스플릿별 데이터 수량"
   ]
  },
  {
   "cell_type": "code",
   "execution_count": 7,
   "metadata": {},
   "outputs": [
    {
     "data": {
      "text/html": [
       "<div><style>\n",
       ".dataframe > thead > tr,\n",
       ".dataframe > tbody > tr {\n",
       "  text-align: right;\n",
       "  white-space: pre-wrap;\n",
       "}\n",
       "</style>\n",
       "<small>shape: (24, 3)</small><table border=\"1\" class=\"dataframe\"><thead><tr><th>channel</th><th>split</th><th>count</th></tr><tr><td>str</td><td>str</td><td>u32</td></tr></thead><tbody><tr><td>&quot;ImageCaption&quot;</td><td>&quot;test&quot;</td><td>990</td></tr><tr><td>&quot;ImageCaption&quot;</td><td>&quot;train&quot;</td><td>8006</td></tr><tr><td>&quot;ImageCaption&quot;</td><td>&quot;valid&quot;</td><td>1030</td></tr><tr><td>&quot;image_B&quot;</td><td>&quot;test&quot;</td><td>9965</td></tr><tr><td>&quot;image_B&quot;</td><td>&quot;train&quot;</td><td>80001</td></tr><tr><td>&quot;image_B&quot;</td><td>&quot;valid&quot;</td><td>10034</td></tr><tr><td>&quot;image_F&quot;</td><td>&quot;test&quot;</td><td>9965</td></tr><tr><td>&quot;image_F&quot;</td><td>&quot;train&quot;</td><td>80001</td></tr><tr><td>&quot;image_F&quot;</td><td>&quot;valid&quot;</td><td>10034</td></tr><tr><td>&quot;image_L&quot;</td><td>&quot;test&quot;</td><td>9965</td></tr><tr><td>&quot;image_L&quot;</td><td>&quot;train&quot;</td><td>80001</td></tr><tr><td>&quot;image_L&quot;</td><td>&quot;valid&quot;</td><td>10034</td></tr><tr><td>&quot;image_R&quot;</td><td>&quot;test&quot;</td><td>9965</td></tr><tr><td>&quot;image_R&quot;</td><td>&quot;train&quot;</td><td>80001</td></tr><tr><td>&quot;image_R&quot;</td><td>&quot;valid&quot;</td><td>10034</td></tr><tr><td>&quot;keypoint&quot;</td><td>&quot;test&quot;</td><td>995</td></tr><tr><td>&quot;keypoint&quot;</td><td>&quot;train&quot;</td><td>7995</td></tr><tr><td>&quot;keypoint&quot;</td><td>&quot;valid&quot;</td><td>1010</td></tr><tr><td>&quot;lidar&quot;</td><td>&quot;test&quot;</td><td>9965</td></tr><tr><td>&quot;lidar&quot;</td><td>&quot;train&quot;</td><td>80001</td></tr><tr><td>&quot;lidar&quot;</td><td>&quot;valid&quot;</td><td>10034</td></tr><tr><td>&quot;thermal&quot;</td><td>&quot;test&quot;</td><td>9965</td></tr><tr><td>&quot;thermal&quot;</td><td>&quot;train&quot;</td><td>80001</td></tr><tr><td>&quot;thermal&quot;</td><td>&quot;valid&quot;</td><td>10034</td></tr></tbody></table></div>"
      ],
      "text/plain": [
       "shape: (24, 3)\n",
       "┌──────────────┬───────┬───────┐\n",
       "│ channel      ┆ split ┆ count │\n",
       "│ ---          ┆ ---   ┆ ---   │\n",
       "│ str          ┆ str   ┆ u32   │\n",
       "╞══════════════╪═══════╪═══════╡\n",
       "│ ImageCaption ┆ test  ┆ 990   │\n",
       "│ ImageCaption ┆ train ┆ 8006  │\n",
       "│ ImageCaption ┆ valid ┆ 1030  │\n",
       "│ image_B      ┆ test  ┆ 9965  │\n",
       "│ …            ┆ …     ┆ …     │\n",
       "│ lidar        ┆ valid ┆ 10034 │\n",
       "│ thermal      ┆ test  ┆ 9965  │\n",
       "│ thermal      ┆ train ┆ 80001 │\n",
       "│ thermal      ┆ valid ┆ 10034 │\n",
       "└──────────────┴───────┴───────┘"
      ]
     },
     "execution_count": 7,
     "metadata": {},
     "output_type": "execute_result"
    }
   ],
   "source": [
    "(\n",
    "    nia_df\n",
    "    .group_by(\"channel\", \"split\")\n",
    "    .count()\n",
    "    .sort(\"channel\", \"split\")\n",
    ")"
   ]
  },
  {
   "cell_type": "markdown",
   "metadata": {},
   "source": [
    "### csv로 추출"
   ]
  },
  {
   "cell_type": "code",
   "execution_count": 8,
   "metadata": {},
   "outputs": [],
   "source": [
    "nia_df.write_csv(\"multi_modal_dataset_info.csv\")"
   ]
  }
 ],
 "metadata": {
  "kernelspec": {
   "display_name": "Python 3",
   "language": "python",
   "name": "python3"
  },
  "language_info": {
   "codemirror_mode": {
    "name": "ipython",
    "version": 3
   },
   "file_extension": ".py",
   "mimetype": "text/x-python",
   "name": "python",
   "nbconvert_exporter": "python",
   "pygments_lexer": "ipython3",
   "version": "3.10.12"
  }
 },
 "nbformat": 4,
 "nbformat_minor": 2
}
