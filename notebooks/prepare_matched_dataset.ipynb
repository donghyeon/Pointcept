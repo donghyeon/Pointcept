{
 "cells": [
  {
   "cell_type": "code",
   "execution_count": 1,
   "metadata": {},
   "outputs": [],
   "source": [
    "from pathlib import Path\n",
    "import polars as pl"
   ]
  },
  {
   "cell_type": "markdown",
   "metadata": {},
   "source": [
    "# Set dataset directory"
   ]
  },
  {
   "cell_type": "code",
   "execution_count": 2,
   "metadata": {},
   "outputs": [],
   "source": [
    "nia_dataset_dir = \"/datasets/nia/\"\n",
    "\n",
    "# Directory should have a trailing slash\n",
    "if not nia_dataset_dir.endswith(\"/\"):\n",
    "    nia_dataset_dir += \"/\""
   ]
  },
  {
   "cell_type": "markdown",
   "metadata": {},
   "source": [
    "### Define subdirectory names"
   ]
  },
  {
   "cell_type": "code",
   "execution_count": 3,
   "metadata": {},
   "outputs": [],
   "source": [
    "pattern = (\n",
    "    f\"{nia_dataset_dir}\"\n",
    "    r\"(?P<volume>[^/]+)/\"\n",
    "    r\".*?\"\n",
    "    r\"(?P<scene>[^/]+)/\"\n",
    "    r\"(?P<channel>[^/]+)/\"\n",
    "    r\"(?P<filename>[^/]+)$\"\n",
    ")"
   ]
  },
  {
   "cell_type": "markdown",
   "metadata": {},
   "source": [
    "### Get all file paths and match subdirectory names"
   ]
  },
  {
   "cell_type": "code",
   "execution_count": 4,
   "metadata": {},
   "outputs": [],
   "source": [
    "paths = pl.Series(\"path\", map(str, Path(nia_dataset_dir).rglob(\"*.*\")))\n",
    "matched_df = (\n",
    "    paths\n",
    "    .str.extract_groups(pattern)\n",
    "    .struct.unnest()\n",
    "    .with_columns(paths)\n",
    ")"
   ]
  },
  {
   "cell_type": "code",
   "execution_count": 5,
   "metadata": {},
   "outputs": [
    {
     "data": {
      "text/html": [
       "<div><style>\n",
       ".dataframe > thead > tr > th,\n",
       ".dataframe > tbody > tr > td {\n",
       "  text-align: right;\n",
       "  white-space: pre-wrap;\n",
       "}\n",
       "</style>\n",
       "<small>shape: (1, 5)</small><table border=\"1\" class=\"dataframe\"><thead><tr><th>volume</th><th>scene</th><th>channel</th><th>filename</th><th>path</th></tr><tr><td>u32</td><td>u32</td><td>u32</td><td>u32</td><td>u32</td></tr></thead><tbody><tr><td>0</td><td>0</td><td>0</td><td>0</td><td>0</td></tr></tbody></table></div>"
      ],
      "text/plain": [
       "shape: (1, 5)\n",
       "┌────────┬───────┬─────────┬──────────┬──────┐\n",
       "│ volume ┆ scene ┆ channel ┆ filename ┆ path │\n",
       "│ ---    ┆ ---   ┆ ---     ┆ ---      ┆ ---  │\n",
       "│ u32    ┆ u32   ┆ u32     ┆ u32      ┆ u32  │\n",
       "╞════════╪═══════╪═════════╪══════════╪══════╡\n",
       "│ 0      ┆ 0     ┆ 0       ┆ 0        ┆ 0    │\n",
       "└────────┴───────┴─────────┴──────────┴──────┘"
      ]
     },
     "execution_count": 5,
     "metadata": {},
     "output_type": "execute_result"
    }
   ],
   "source": [
    "matched_df.null_count()"
   ]
  },
  {
   "cell_type": "markdown",
   "metadata": {},
   "source": [
    "### Get stem and extension from filename"
   ]
  },
  {
   "cell_type": "code",
   "execution_count": 6,
   "metadata": {},
   "outputs": [],
   "source": [
    "matched_df = matched_df.with_columns(\n",
    "    pl.col(\"filename\").str.split(\".\").alias(\".splits\"),\n",
    ").with_columns(\n",
    "    pl.col(\".splits\").list.first().alias(\"stem\"),\n",
    "    pl.col(\".splits\").list.last().alias(\"extension\"),\n",
    ").drop(\".splits\")"
   ]
  },
  {
   "cell_type": "markdown",
   "metadata": {},
   "source": [
    "### Different length of stem split by _"
   ]
  },
  {
   "cell_type": "code",
   "execution_count": 7,
   "metadata": {},
   "outputs": [
    {
     "data": {
      "text/html": [
       "<div><style>\n",
       ".dataframe > thead > tr > th,\n",
       ".dataframe > tbody > tr > td {\n",
       "  text-align: right;\n",
       "  white-space: pre-wrap;\n",
       "}\n",
       "</style>\n",
       "<small>shape: (3, 4)</small><table border=\"1\" class=\"dataframe\"><thead><tr><th>_length</th><th>count</th><th>stem</th><th>_splits</th></tr><tr><td>u32</td><td>u32</td><td>str</td><td>list[str]</td></tr></thead><tbody><tr><td>4</td><td>25200</td><td>&quot;CF_230906_1236…</td><td>[&quot;CF&quot;, &quot;230906&quot;, … &quot;113&quot;]</td></tr><tr><td>7</td><td>127463</td><td>&quot;CK_A05_R03_erh…</td><td>[&quot;CK&quot;, &quot;A05&quot;, … &quot;F&quot;]</td></tr><tr><td>6</td><td>79276</td><td>&quot;TK_A05_R03_erh…</td><td>[&quot;TK&quot;, &quot;A05&quot;, … &quot;01020234&quot;]</td></tr></tbody></table></div>"
      ],
      "text/plain": [
       "shape: (3, 4)\n",
       "┌─────────┬────────┬─────────────────────────────────┬─────────────────────────────┐\n",
       "│ _length ┆ count  ┆ stem                            ┆ _splits                     │\n",
       "│ ---     ┆ ---    ┆ ---                             ┆ ---                         │\n",
       "│ u32     ┆ u32    ┆ str                             ┆ list[str]                   │\n",
       "╞═════════╪════════╪═════════════════════════════════╪═════════════════════════════╡\n",
       "│ 4       ┆ 25200  ┆ CF_230906_123652_113            ┆ [\"CF\", \"230906\", … \"113\"]   │\n",
       "│ 7       ┆ 127463 ┆ CK_A05_R03_erh_rainy_01020256_F ┆ [\"CK\", \"A05\", … \"F\"]        │\n",
       "│ 6       ┆ 79276  ┆ TK_A05_R03_erh_rainy_01020234   ┆ [\"TK\", \"A05\", … \"01020234\"] │\n",
       "└─────────┴────────┴─────────────────────────────────┴─────────────────────────────┘"
      ]
     },
     "execution_count": 7,
     "metadata": {},
     "output_type": "execute_result"
    }
   ],
   "source": [
    "matched_df.select(\n",
    "    pl.col(\"stem\"),\n",
    "    pl.col(\"stem\").str.split(\"_\").alias(\"_splits\"),\n",
    ").with_columns(\n",
    "    pl.col(\"_splits\").list.len().alias(\"_length\")\n",
    ").group_by(\"_length\").agg(\n",
    "    pl.col(\"stem\").count().alias(\"count\"),\n",
    "    pl.col(\"stem\").first(),\n",
    "    pl.col(\"_splits\").first(),\n",
    ")"
   ]
  },
  {
   "cell_type": "markdown",
   "metadata": {},
   "source": [
    "### Get features from stem"
   ]
  },
  {
   "cell_type": "code",
   "execution_count": 8,
   "metadata": {},
   "outputs": [],
   "source": [
    "timeslot_values = [\"mrh\", \"day\", \"lunch\", \"afterschool\", \"erh\", \"night\"]\n",
    "weather_values = [\"clear\", \"rainy\", \"foggy\"]\n",
    "\n",
    "matched_df = matched_df.with_columns(\n",
    "    pl.col(\"stem\").str.extract(r\"([A-Z]+)\", 1).alias(\"sensor\"),\n",
    "    pl.col(\"stem\").str.extract_all(r\"[A-Z]\\d{2}\").list.to_struct(\n",
    "        fields=[\"code_1\", \"code_2\"],\n",
    "    ).alias(\"scenario_codes\"),\n",
    "    pl.col(\"stem\").str.extract(f\"({'|'.join(timeslot_values)})\").alias(\"timeslot\"),\n",
    "    pl.col(\"stem\").str.extract(f\"({'|'.join(weather_values)})\").alias(\"weather\"),\n",
    "    pl.col(\"stem\").str.extract(r\"(\\d{8})\").alias(\"annotation_id\")\n",
    ").unnest(\"scenario_codes\")"
   ]
  },
  {
   "cell_type": "code",
   "execution_count": 9,
   "metadata": {},
   "outputs": [
    {
     "data": {
      "text/html": [
       "<div><style>\n",
       ".dataframe > thead > tr > th,\n",
       ".dataframe > tbody > tr > td {\n",
       "  text-align: right;\n",
       "  white-space: pre-wrap;\n",
       "}\n",
       "</style>\n",
       "<small>shape: (1, 13)</small><table border=\"1\" class=\"dataframe\"><thead><tr><th>volume</th><th>scene</th><th>channel</th><th>filename</th><th>path</th><th>stem</th><th>extension</th><th>sensor</th><th>code_1</th><th>code_2</th><th>timeslot</th><th>weather</th><th>annotation_id</th></tr><tr><td>u32</td><td>u32</td><td>u32</td><td>u32</td><td>u32</td><td>u32</td><td>u32</td><td>u32</td><td>u32</td><td>u32</td><td>u32</td><td>u32</td><td>u32</td></tr></thead><tbody><tr><td>0</td><td>0</td><td>0</td><td>0</td><td>0</td><td>0</td><td>0</td><td>0</td><td>25200</td><td>25200</td><td>25200</td><td>25200</td><td>25200</td></tr></tbody></table></div>"
      ],
      "text/plain": [
       "shape: (1, 13)\n",
       "┌────────┬───────┬─────────┬──────────┬───┬────────┬──────────┬─────────┬───────────────┐\n",
       "│ volume ┆ scene ┆ channel ┆ filename ┆ … ┆ code_2 ┆ timeslot ┆ weather ┆ annotation_id │\n",
       "│ ---    ┆ ---   ┆ ---     ┆ ---      ┆   ┆ ---    ┆ ---      ┆ ---     ┆ ---           │\n",
       "│ u32    ┆ u32   ┆ u32     ┆ u32      ┆   ┆ u32    ┆ u32      ┆ u32     ┆ u32           │\n",
       "╞════════╪═══════╪═════════╪══════════╪═══╪════════╪══════════╪═════════╪═══════════════╡\n",
       "│ 0      ┆ 0     ┆ 0       ┆ 0        ┆ … ┆ 25200  ┆ 25200    ┆ 25200   ┆ 25200         │\n",
       "└────────┴───────┴─────────┴──────────┴───┴────────┴──────────┴─────────┴───────────────┘"
      ]
     },
     "execution_count": 9,
     "metadata": {},
     "output_type": "execute_result"
    }
   ],
   "source": [
    "matched_df.null_count()"
   ]
  },
  {
   "cell_type": "markdown",
   "metadata": {},
   "source": [
    "# Pair collection and annotation"
   ]
  },
  {
   "cell_type": "code",
   "execution_count": 10,
   "metadata": {},
   "outputs": [
    {
     "data": {
      "text/html": [
       "<div><style>\n",
       ".dataframe > thead > tr > th,\n",
       ".dataframe > tbody > tr > td {\n",
       "  text-align: right;\n",
       "  white-space: pre-wrap;\n",
       "}\n",
       "</style>\n",
       "<small>shape: (9, 13)</small><table border=\"1\" class=\"dataframe\"><thead><tr><th>volume</th><th>scene</th><th>channel</th><th>filename</th><th>path</th><th>stem</th><th>extension</th><th>sensor</th><th>code_1</th><th>code_2</th><th>timeslot</th><th>weather</th><th>annotation_id</th></tr><tr><td>str</td><td>str</td><td>str</td><td>str</td><td>str</td><td>str</td><td>str</td><td>str</td><td>str</td><td>str</td><td>str</td><td>str</td><td>str</td></tr></thead><tbody><tr><td>&quot;230927&quot;</td><td>&quot;230822_163601_…</td><td>&quot;imageCaption&quot;</td><td>&quot;CK_B01_R02_aft…</td><td>&quot;/datasets/nia/…</td><td>&quot;CK_B01_R02_aft…</td><td>&quot;json&quot;</td><td>&quot;CK&quot;</td><td>&quot;B01&quot;</td><td>&quot;R02&quot;</td><td>&quot;afterschool&quot;</td><td>&quot;clear&quot;</td><td>&quot;01000841&quot;</td></tr><tr><td>&quot;231018&quot;</td><td>&quot;230913_181405_…</td><td>&quot;Annotation&quot;</td><td>&quot;LK_A06_R05_erh…</td><td>&quot;/datasets/nia/…</td><td>&quot;LK_A06_R05_erh…</td><td>&quot;json&quot;</td><td>&quot;LK&quot;</td><td>&quot;A06&quot;</td><td>&quot;R05&quot;</td><td>&quot;erh&quot;</td><td>&quot;rainy&quot;</td><td>&quot;01020891&quot;</td></tr><tr><td>&quot;231018&quot;</td><td>&quot;230913_180453_…</td><td>&quot;lidar&quot;</td><td>&quot;LK_A05_R03_erh…</td><td>&quot;/datasets/nia/…</td><td>&quot;LK_A05_R03_erh…</td><td>&quot;pcd&quot;</td><td>&quot;LK&quot;</td><td>&quot;A05&quot;</td><td>&quot;R03&quot;</td><td>&quot;erh&quot;</td><td>&quot;rainy&quot;</td><td>&quot;01020229&quot;</td></tr><tr><td>&quot;231018&quot;</td><td>&quot;230913_180453_…</td><td>&quot;image_L&quot;</td><td>&quot;CK_A05_R03_erh…</td><td>&quot;/datasets/nia/…</td><td>&quot;CK_A05_R03_erh…</td><td>&quot;png&quot;</td><td>&quot;CK&quot;</td><td>&quot;A05&quot;</td><td>&quot;R03&quot;</td><td>&quot;erh&quot;</td><td>&quot;rainy&quot;</td><td>&quot;01020262&quot;</td></tr><tr><td>&quot;231018&quot;</td><td>&quot;230913_180453_…</td><td>&quot;image_B&quot;</td><td>&quot;CK_A05_R03_erh…</td><td>&quot;/datasets/nia/…</td><td>&quot;CK_A05_R03_erh…</td><td>&quot;png&quot;</td><td>&quot;CK&quot;</td><td>&quot;A05&quot;</td><td>&quot;R03&quot;</td><td>&quot;erh&quot;</td><td>&quot;rainy&quot;</td><td>&quot;01020223&quot;</td></tr><tr><td>&quot;231018&quot;</td><td>&quot;230913_180453_…</td><td>&quot;thermal&quot;</td><td>&quot;TK_A05_R03_erh…</td><td>&quot;/datasets/nia/…</td><td>&quot;TK_A05_R03_erh…</td><td>&quot;png&quot;</td><td>&quot;TK&quot;</td><td>&quot;A05&quot;</td><td>&quot;R03&quot;</td><td>&quot;erh&quot;</td><td>&quot;rainy&quot;</td><td>&quot;01020234&quot;</td></tr><tr><td>&quot;231018&quot;</td><td>&quot;230913_180453_…</td><td>&quot;gps&quot;</td><td>&quot;GK_A05_R03_erh…</td><td>&quot;/datasets/nia/…</td><td>&quot;GK_A05_R03_erh…</td><td>&quot;csv&quot;</td><td>&quot;GK&quot;</td><td>&quot;A05&quot;</td><td>&quot;R03&quot;</td><td>&quot;erh&quot;</td><td>&quot;rainy&quot;</td><td>&quot;01020261&quot;</td></tr><tr><td>&quot;231018&quot;</td><td>&quot;230913_180453_…</td><td>&quot;image_R&quot;</td><td>&quot;CK_A05_R03_erh…</td><td>&quot;/datasets/nia/…</td><td>&quot;CK_A05_R03_erh…</td><td>&quot;png&quot;</td><td>&quot;CK&quot;</td><td>&quot;A05&quot;</td><td>&quot;R03&quot;</td><td>&quot;erh&quot;</td><td>&quot;rainy&quot;</td><td>&quot;01020228&quot;</td></tr><tr><td>&quot;231018&quot;</td><td>&quot;230913_180453_…</td><td>&quot;image_F&quot;</td><td>&quot;CK_A05_R03_erh…</td><td>&quot;/datasets/nia/…</td><td>&quot;CK_A05_R03_erh…</td><td>&quot;png&quot;</td><td>&quot;CK&quot;</td><td>&quot;A05&quot;</td><td>&quot;R03&quot;</td><td>&quot;erh&quot;</td><td>&quot;rainy&quot;</td><td>&quot;01020256&quot;</td></tr></tbody></table></div>"
      ],
      "text/plain": [
       "shape: (9, 13)\n",
       "┌────────┬─────────────┬─────────────┬────────────┬───┬────────┬────────────┬─────────┬────────────┐\n",
       "│ volume ┆ scene       ┆ channel     ┆ filename   ┆ … ┆ code_2 ┆ timeslot   ┆ weather ┆ annotation │\n",
       "│ ---    ┆ ---         ┆ ---         ┆ ---        ┆   ┆ ---    ┆ ---        ┆ ---     ┆ _id        │\n",
       "│ str    ┆ str         ┆ str         ┆ str        ┆   ┆ str    ┆ str        ┆ str     ┆ ---        │\n",
       "│        ┆             ┆             ┆            ┆   ┆        ┆            ┆         ┆ str        │\n",
       "╞════════╪═════════════╪═════════════╪════════════╪═══╪════════╪════════════╪═════════╪════════════╡\n",
       "│ 230927 ┆ 230822_1636 ┆ imageCaptio ┆ CK_B01_R02 ┆ … ┆ R02    ┆ afterschoo ┆ clear   ┆ 01000841   │\n",
       "│        ┆ 01_K(2)     ┆ n           ┆ _afterscho ┆   ┆        ┆ l          ┆         ┆            │\n",
       "│        ┆             ┆             ┆ ol_clear_0 ┆   ┆        ┆            ┆         ┆            │\n",
       "│        ┆             ┆             ┆ 10…        ┆   ┆        ┆            ┆         ┆            │\n",
       "│ 231018 ┆ 230913_1814 ┆ Annotation  ┆ LK_A06_R05 ┆ … ┆ R05    ┆ erh        ┆ rainy   ┆ 01020891   │\n",
       "│        ┆ 05_K(1)     ┆             ┆ _erh_rainy ┆   ┆        ┆            ┆         ┆            │\n",
       "│        ┆             ┆             ┆ _01020891. ┆   ┆        ┆            ┆         ┆            │\n",
       "│        ┆             ┆             ┆ js…        ┆   ┆        ┆            ┆         ┆            │\n",
       "│ 231018 ┆ 230913_1804 ┆ lidar       ┆ LK_A05_R03 ┆ … ┆ R03    ┆ erh        ┆ rainy   ┆ 01020229   │\n",
       "│        ┆ 53_K(1)     ┆             ┆ _erh_rainy ┆   ┆        ┆            ┆         ┆            │\n",
       "│        ┆             ┆             ┆ _01020229. ┆   ┆        ┆            ┆         ┆            │\n",
       "│        ┆             ┆             ┆ pc…        ┆   ┆        ┆            ┆         ┆            │\n",
       "│ 231018 ┆ 230913_1804 ┆ image_L     ┆ CK_A05_R03 ┆ … ┆ R03    ┆ erh        ┆ rainy   ┆ 01020262   │\n",
       "│        ┆ 53_K(1)     ┆             ┆ _erh_rainy ┆   ┆        ┆            ┆         ┆            │\n",
       "│        ┆             ┆             ┆ _01020262_ ┆   ┆        ┆            ┆         ┆            │\n",
       "│        ┆             ┆             ┆ L.…        ┆   ┆        ┆            ┆         ┆            │\n",
       "│ 231018 ┆ 230913_1804 ┆ image_B     ┆ CK_A05_R03 ┆ … ┆ R03    ┆ erh        ┆ rainy   ┆ 01020223   │\n",
       "│        ┆ 53_K(1)     ┆             ┆ _erh_rainy ┆   ┆        ┆            ┆         ┆            │\n",
       "│        ┆             ┆             ┆ _01020223_ ┆   ┆        ┆            ┆         ┆            │\n",
       "│        ┆             ┆             ┆ B.…        ┆   ┆        ┆            ┆         ┆            │\n",
       "│ 231018 ┆ 230913_1804 ┆ thermal     ┆ TK_A05_R03 ┆ … ┆ R03    ┆ erh        ┆ rainy   ┆ 01020234   │\n",
       "│        ┆ 53_K(1)     ┆             ┆ _erh_rainy ┆   ┆        ┆            ┆         ┆            │\n",
       "│        ┆             ┆             ┆ _01020234. ┆   ┆        ┆            ┆         ┆            │\n",
       "│        ┆             ┆             ┆ pn…        ┆   ┆        ┆            ┆         ┆            │\n",
       "│ 231018 ┆ 230913_1804 ┆ gps         ┆ GK_A05_R03 ┆ … ┆ R03    ┆ erh        ┆ rainy   ┆ 01020261   │\n",
       "│        ┆ 53_K(1)     ┆             ┆ _erh_rainy ┆   ┆        ┆            ┆         ┆            │\n",
       "│        ┆             ┆             ┆ _01020261. ┆   ┆        ┆            ┆         ┆            │\n",
       "│        ┆             ┆             ┆ cs…        ┆   ┆        ┆            ┆         ┆            │\n",
       "│ 231018 ┆ 230913_1804 ┆ image_R     ┆ CK_A05_R03 ┆ … ┆ R03    ┆ erh        ┆ rainy   ┆ 01020228   │\n",
       "│        ┆ 53_K(1)     ┆             ┆ _erh_rainy ┆   ┆        ┆            ┆         ┆            │\n",
       "│        ┆             ┆             ┆ _01020228_ ┆   ┆        ┆            ┆         ┆            │\n",
       "│        ┆             ┆             ┆ R.…        ┆   ┆        ┆            ┆         ┆            │\n",
       "│ 231018 ┆ 230913_1804 ┆ image_F     ┆ CK_A05_R03 ┆ … ┆ R03    ┆ erh        ┆ rainy   ┆ 01020256   │\n",
       "│        ┆ 53_K(1)     ┆             ┆ _erh_rainy ┆   ┆        ┆            ┆         ┆            │\n",
       "│        ┆             ┆             ┆ _01020256_ ┆   ┆        ┆            ┆         ┆            │\n",
       "│        ┆             ┆             ┆ F.…        ┆   ┆        ┆            ┆         ┆            │\n",
       "└────────┴─────────────┴─────────────┴────────────┴───┴────────┴────────────┴─────────┴────────────┘"
      ]
     },
     "execution_count": 10,
     "metadata": {},
     "output_type": "execute_result"
    }
   ],
   "source": [
    "matched_df.unique(\"channel\")"
   ]
  },
  {
   "cell_type": "markdown",
   "metadata": {},
   "source": [
    "### Group by stem and channel"
   ]
  },
  {
   "cell_type": "code",
   "execution_count": 11,
   "metadata": {},
   "outputs": [],
   "source": [
    "paired_df = matched_df.group_by(\"stem\", \"channel\").agg(\n",
    "    pl.all().exclude(\"filename\", \"path\", \"extension\").first(),\n",
    "    pl.col(\"path\").filter(pl.col(\"extension\") != \"json\").first().name.prefix(\"collection_\"),\n",
    "    pl.col(\"path\").filter(pl.col(\"extension\") == \"json\").first().name.prefix(\"annotation_\"),\n",
    ")"
   ]
  },
  {
   "cell_type": "code",
   "execution_count": 12,
   "metadata": {},
   "outputs": [
    {
     "data": {
      "text/html": [
       "<div><style>\n",
       ".dataframe > thead > tr > th,\n",
       ".dataframe > tbody > tr > td {\n",
       "  text-align: right;\n",
       "  white-space: pre-wrap;\n",
       "}\n",
       "</style>\n",
       "<small>shape: (1, 12)</small><table border=\"1\" class=\"dataframe\"><thead><tr><th>stem</th><th>channel</th><th>volume</th><th>scene</th><th>sensor</th><th>code_1</th><th>code_2</th><th>timeslot</th><th>weather</th><th>annotation_id</th><th>collection_path</th><th>annotation_path</th></tr><tr><td>u32</td><td>u32</td><td>u32</td><td>u32</td><td>u32</td><td>u32</td><td>u32</td><td>u32</td><td>u32</td><td>u32</td><td>u32</td><td>u32</td></tr></thead><tbody><tr><td>0</td><td>0</td><td>0</td><td>0</td><td>0</td><td>25200</td><td>25200</td><td>25200</td><td>25200</td><td>25200</td><td>23176</td><td>42807</td></tr></tbody></table></div>"
      ],
      "text/plain": [
       "shape: (1, 12)\n",
       "┌──────┬─────────┬────────┬───────┬───┬─────────┬───────────────┬─────────────────┬────────────────┐\n",
       "│ stem ┆ channel ┆ volume ┆ scene ┆ … ┆ weather ┆ annotation_id ┆ collection_path ┆ annotation_pat │\n",
       "│ ---  ┆ ---     ┆ ---    ┆ ---   ┆   ┆ ---     ┆ ---           ┆ ---             ┆ h              │\n",
       "│ u32  ┆ u32     ┆ u32    ┆ u32   ┆   ┆ u32     ┆ u32           ┆ u32             ┆ ---            │\n",
       "│      ┆         ┆        ┆       ┆   ┆         ┆               ┆                 ┆ u32            │\n",
       "╞══════╪═════════╪════════╪═══════╪═══╪═════════╪═══════════════╪═════════════════╪════════════════╡\n",
       "│ 0    ┆ 0       ┆ 0      ┆ 0     ┆ … ┆ 25200   ┆ 25200         ┆ 23176           ┆ 42807          │\n",
       "└──────┴─────────┴────────┴───────┴───┴─────────┴───────────────┴─────────────────┴────────────────┘"
      ]
     },
     "execution_count": 12,
     "metadata": {},
     "output_type": "execute_result"
    }
   ],
   "source": [
    "paired_df.null_count()"
   ]
  },
  {
   "cell_type": "markdown",
   "metadata": {},
   "source": [
    "### Drop nulls and get all features with complete pairs"
   ]
  },
  {
   "cell_type": "code",
   "execution_count": 13,
   "metadata": {},
   "outputs": [],
   "source": [
    "# categorical_columns = [\"channel\", \"volume\", \"scene\", \"sensor\", \"code_1\", \"code_2\", \"timeslot\", \"weather\"]\n",
    "# paired_df = paired_df.drop_nulls().with_columns(\n",
    "#     pl.col(categorical_columns).cast(pl.Categorical).cat.set_ordering(\"lexical\"),\n",
    "# )"
   ]
  },
  {
   "cell_type": "code",
   "execution_count": 14,
   "metadata": {},
   "outputs": [
    {
     "data": {
      "text/html": [
       "<div><style>\n",
       ".dataframe > thead > tr > th,\n",
       ".dataframe > tbody > tr > td {\n",
       "  text-align: right;\n",
       "  white-space: pre-wrap;\n",
       "}\n",
       "</style>\n",
       "<small>shape: (82_978, 12)</small><table border=\"1\" class=\"dataframe\"><thead><tr><th>stem</th><th>channel</th><th>volume</th><th>scene</th><th>sensor</th><th>code_1</th><th>code_2</th><th>timeslot</th><th>weather</th><th>annotation_id</th><th>collection_path</th><th>annotation_path</th></tr><tr><td>str</td><td>str</td><td>str</td><td>str</td><td>str</td><td>str</td><td>str</td><td>str</td><td>str</td><td>str</td><td>str</td><td>str</td></tr></thead><tbody><tr><td>&quot;CK_A01_R01_erh…</td><td>&quot;image_B&quot;</td><td>&quot;231018&quot;</td><td>&quot;230913_181649_…</td><td>&quot;CK&quot;</td><td>&quot;A01&quot;</td><td>&quot;R01&quot;</td><td>&quot;erh&quot;</td><td>&quot;rainy&quot;</td><td>&quot;01021219&quot;</td><td>&quot;/datasets/nia/…</td><td>&quot;/datasets/nia/…</td></tr><tr><td>&quot;CK_A01_R01_erh…</td><td>&quot;image_F&quot;</td><td>&quot;231018&quot;</td><td>&quot;230913_181649_…</td><td>&quot;CK&quot;</td><td>&quot;A01&quot;</td><td>&quot;R01&quot;</td><td>&quot;erh&quot;</td><td>&quot;rainy&quot;</td><td>&quot;01021219&quot;</td><td>&quot;/datasets/nia/…</td><td>&quot;/datasets/nia/…</td></tr><tr><td>&quot;CK_A01_R01_erh…</td><td>&quot;image_L&quot;</td><td>&quot;231018&quot;</td><td>&quot;230913_181649_…</td><td>&quot;CK&quot;</td><td>&quot;A01&quot;</td><td>&quot;R01&quot;</td><td>&quot;erh&quot;</td><td>&quot;rainy&quot;</td><td>&quot;01021219&quot;</td><td>&quot;/datasets/nia/…</td><td>&quot;/datasets/nia/…</td></tr><tr><td>&quot;CK_A01_R01_erh…</td><td>&quot;image_R&quot;</td><td>&quot;231018&quot;</td><td>&quot;230913_181649_…</td><td>&quot;CK&quot;</td><td>&quot;A01&quot;</td><td>&quot;R01&quot;</td><td>&quot;erh&quot;</td><td>&quot;rainy&quot;</td><td>&quot;01021219&quot;</td><td>&quot;/datasets/nia/…</td><td>&quot;/datasets/nia/…</td></tr><tr><td>&quot;CK_A01_R01_erh…</td><td>&quot;image_B&quot;</td><td>&quot;231018&quot;</td><td>&quot;230913_181649_…</td><td>&quot;CK&quot;</td><td>&quot;A01&quot;</td><td>&quot;R01&quot;</td><td>&quot;erh&quot;</td><td>&quot;rainy&quot;</td><td>&quot;01021220&quot;</td><td>&quot;/datasets/nia/…</td><td>&quot;/datasets/nia/…</td></tr><tr><td>&quot;CK_A01_R01_erh…</td><td>&quot;image_F&quot;</td><td>&quot;231018&quot;</td><td>&quot;230913_181649_…</td><td>&quot;CK&quot;</td><td>&quot;A01&quot;</td><td>&quot;R01&quot;</td><td>&quot;erh&quot;</td><td>&quot;rainy&quot;</td><td>&quot;01021220&quot;</td><td>&quot;/datasets/nia/…</td><td>&quot;/datasets/nia/…</td></tr><tr><td>&quot;CK_A01_R01_erh…</td><td>&quot;image_L&quot;</td><td>&quot;231018&quot;</td><td>&quot;230913_181649_…</td><td>&quot;CK&quot;</td><td>&quot;A01&quot;</td><td>&quot;R01&quot;</td><td>&quot;erh&quot;</td><td>&quot;rainy&quot;</td><td>&quot;01021220&quot;</td><td>&quot;/datasets/nia/…</td><td>&quot;/datasets/nia/…</td></tr><tr><td>&quot;CK_A01_R01_erh…</td><td>&quot;image_R&quot;</td><td>&quot;231018&quot;</td><td>&quot;230913_181649_…</td><td>&quot;CK&quot;</td><td>&quot;A01&quot;</td><td>&quot;R01&quot;</td><td>&quot;erh&quot;</td><td>&quot;rainy&quot;</td><td>&quot;01021220&quot;</td><td>&quot;/datasets/nia/…</td><td>&quot;/datasets/nia/…</td></tr><tr><td>&quot;CK_A01_R01_erh…</td><td>&quot;image_B&quot;</td><td>&quot;231018&quot;</td><td>&quot;230913_181649_…</td><td>&quot;CK&quot;</td><td>&quot;A01&quot;</td><td>&quot;R01&quot;</td><td>&quot;erh&quot;</td><td>&quot;rainy&quot;</td><td>&quot;01021221&quot;</td><td>&quot;/datasets/nia/…</td><td>&quot;/datasets/nia/…</td></tr><tr><td>&quot;CK_A01_R01_erh…</td><td>&quot;image_F&quot;</td><td>&quot;231018&quot;</td><td>&quot;230913_181649_…</td><td>&quot;CK&quot;</td><td>&quot;A01&quot;</td><td>&quot;R01&quot;</td><td>&quot;erh&quot;</td><td>&quot;rainy&quot;</td><td>&quot;01021221&quot;</td><td>&quot;/datasets/nia/…</td><td>&quot;/datasets/nia/…</td></tr><tr><td>&quot;CK_A01_R01_erh…</td><td>&quot;image_L&quot;</td><td>&quot;231018&quot;</td><td>&quot;230913_181649_…</td><td>&quot;CK&quot;</td><td>&quot;A01&quot;</td><td>&quot;R01&quot;</td><td>&quot;erh&quot;</td><td>&quot;rainy&quot;</td><td>&quot;01021221&quot;</td><td>&quot;/datasets/nia/…</td><td>&quot;/datasets/nia/…</td></tr><tr><td>&quot;CK_A01_R01_erh…</td><td>&quot;image_R&quot;</td><td>&quot;231018&quot;</td><td>&quot;230913_181649_…</td><td>&quot;CK&quot;</td><td>&quot;A01&quot;</td><td>&quot;R01&quot;</td><td>&quot;erh&quot;</td><td>&quot;rainy&quot;</td><td>&quot;01021221&quot;</td><td>&quot;/datasets/nia/…</td><td>&quot;/datasets/nia/…</td></tr><tr><td>&hellip;</td><td>&hellip;</td><td>&hellip;</td><td>&hellip;</td><td>&hellip;</td><td>&hellip;</td><td>&hellip;</td><td>&hellip;</td><td>&hellip;</td><td>&hellip;</td><td>&hellip;</td><td>&hellip;</td></tr><tr><td>&quot;TK_B13_R05_aft…</td><td>&quot;thermal&quot;</td><td>&quot;230927&quot;</td><td>&quot;230822_164041_…</td><td>&quot;TK&quot;</td><td>&quot;B13&quot;</td><td>&quot;R05&quot;</td><td>&quot;afterschool&quot;</td><td>&quot;clear&quot;</td><td>&quot;01001505&quot;</td><td>&quot;/datasets/nia/…</td><td>&quot;/datasets/nia/…</td></tr><tr><td>&quot;TK_B13_R05_aft…</td><td>&quot;thermal&quot;</td><td>&quot;230927&quot;</td><td>&quot;230822_164041_…</td><td>&quot;TK&quot;</td><td>&quot;B13&quot;</td><td>&quot;R05&quot;</td><td>&quot;afterschool&quot;</td><td>&quot;clear&quot;</td><td>&quot;01001506&quot;</td><td>&quot;/datasets/nia/…</td><td>&quot;/datasets/nia/…</td></tr><tr><td>&quot;TK_B13_R05_aft…</td><td>&quot;thermal&quot;</td><td>&quot;230927&quot;</td><td>&quot;230822_164041_…</td><td>&quot;TK&quot;</td><td>&quot;B13&quot;</td><td>&quot;R05&quot;</td><td>&quot;afterschool&quot;</td><td>&quot;clear&quot;</td><td>&quot;01001507&quot;</td><td>&quot;/datasets/nia/…</td><td>&quot;/datasets/nia/…</td></tr><tr><td>&quot;TK_B13_R05_aft…</td><td>&quot;thermal&quot;</td><td>&quot;230927&quot;</td><td>&quot;230822_164041_…</td><td>&quot;TK&quot;</td><td>&quot;B13&quot;</td><td>&quot;R05&quot;</td><td>&quot;afterschool&quot;</td><td>&quot;clear&quot;</td><td>&quot;01001508&quot;</td><td>&quot;/datasets/nia/…</td><td>&quot;/datasets/nia/…</td></tr><tr><td>&quot;TK_B13_R05_aft…</td><td>&quot;thermal&quot;</td><td>&quot;230927&quot;</td><td>&quot;230822_164041_…</td><td>&quot;TK&quot;</td><td>&quot;B13&quot;</td><td>&quot;R05&quot;</td><td>&quot;afterschool&quot;</td><td>&quot;clear&quot;</td><td>&quot;01001509&quot;</td><td>&quot;/datasets/nia/…</td><td>&quot;/datasets/nia/…</td></tr><tr><td>&quot;TK_B13_R05_aft…</td><td>&quot;thermal&quot;</td><td>&quot;230927&quot;</td><td>&quot;230822_164041_…</td><td>&quot;TK&quot;</td><td>&quot;B13&quot;</td><td>&quot;R05&quot;</td><td>&quot;afterschool&quot;</td><td>&quot;clear&quot;</td><td>&quot;01001510&quot;</td><td>&quot;/datasets/nia/…</td><td>&quot;/datasets/nia/…</td></tr><tr><td>&quot;TK_B13_R05_aft…</td><td>&quot;thermal&quot;</td><td>&quot;230927&quot;</td><td>&quot;230822_164041_…</td><td>&quot;TK&quot;</td><td>&quot;B13&quot;</td><td>&quot;R05&quot;</td><td>&quot;afterschool&quot;</td><td>&quot;clear&quot;</td><td>&quot;01001511&quot;</td><td>&quot;/datasets/nia/…</td><td>&quot;/datasets/nia/…</td></tr><tr><td>&quot;TK_B13_R05_aft…</td><td>&quot;thermal&quot;</td><td>&quot;230927&quot;</td><td>&quot;230822_164041_…</td><td>&quot;TK&quot;</td><td>&quot;B13&quot;</td><td>&quot;R05&quot;</td><td>&quot;afterschool&quot;</td><td>&quot;clear&quot;</td><td>&quot;01001512&quot;</td><td>&quot;/datasets/nia/…</td><td>&quot;/datasets/nia/…</td></tr><tr><td>&quot;TK_B13_R05_aft…</td><td>&quot;thermal&quot;</td><td>&quot;230927&quot;</td><td>&quot;230822_164041_…</td><td>&quot;TK&quot;</td><td>&quot;B13&quot;</td><td>&quot;R05&quot;</td><td>&quot;afterschool&quot;</td><td>&quot;clear&quot;</td><td>&quot;01001513&quot;</td><td>&quot;/datasets/nia/…</td><td>&quot;/datasets/nia/…</td></tr><tr><td>&quot;TK_B13_R05_aft…</td><td>&quot;thermal&quot;</td><td>&quot;230927&quot;</td><td>&quot;230822_164041_…</td><td>&quot;TK&quot;</td><td>&quot;B13&quot;</td><td>&quot;R05&quot;</td><td>&quot;afterschool&quot;</td><td>&quot;clear&quot;</td><td>&quot;01001514&quot;</td><td>&quot;/datasets/nia/…</td><td>&quot;/datasets/nia/…</td></tr><tr><td>&quot;TK_B13_R05_aft…</td><td>&quot;thermal&quot;</td><td>&quot;230927&quot;</td><td>&quot;230822_164041_…</td><td>&quot;TK&quot;</td><td>&quot;B13&quot;</td><td>&quot;R05&quot;</td><td>&quot;afterschool&quot;</td><td>&quot;clear&quot;</td><td>&quot;01001515&quot;</td><td>&quot;/datasets/nia/…</td><td>&quot;/datasets/nia/…</td></tr><tr><td>&quot;TK_B13_R05_aft…</td><td>&quot;thermal&quot;</td><td>&quot;230927&quot;</td><td>&quot;230822_164041_…</td><td>&quot;TK&quot;</td><td>&quot;B13&quot;</td><td>&quot;R05&quot;</td><td>&quot;afterschool&quot;</td><td>&quot;clear&quot;</td><td>&quot;01001516&quot;</td><td>&quot;/datasets/nia/…</td><td>&quot;/datasets/nia/…</td></tr></tbody></table></div>"
      ],
      "text/plain": [
       "shape: (82_978, 12)\n",
       "┌─────────────┬─────────┬────────┬────────────┬───┬─────────┬────────────┬────────────┬────────────┐\n",
       "│ stem        ┆ channel ┆ volume ┆ scene      ┆ … ┆ weather ┆ annotation ┆ collection ┆ annotation │\n",
       "│ ---         ┆ ---     ┆ ---    ┆ ---        ┆   ┆ ---     ┆ _id        ┆ _path      ┆ _path      │\n",
       "│ str         ┆ str     ┆ str    ┆ str        ┆   ┆ str     ┆ ---        ┆ ---        ┆ ---        │\n",
       "│             ┆         ┆        ┆            ┆   ┆         ┆ str        ┆ str        ┆ str        │\n",
       "╞═════════════╪═════════╪════════╪════════════╪═══╪═════════╪════════════╪════════════╪════════════╡\n",
       "│ CK_A01_R01_ ┆ image_B ┆ 231018 ┆ 230913_181 ┆ … ┆ rainy   ┆ 01021219   ┆ /datasets/ ┆ /datasets/ │\n",
       "│ erh_rainy_0 ┆         ┆        ┆ 649_K(1)   ┆   ┆         ┆            ┆ nia/231018 ┆ nia/231018 │\n",
       "│ 1021219_B   ┆         ┆        ┆            ┆   ┆         ┆            ┆ /collectio ┆ /annotatio │\n",
       "│             ┆         ┆        ┆            ┆   ┆         ┆            ┆ ns…        ┆ ns…        │\n",
       "│ CK_A01_R01_ ┆ image_F ┆ 231018 ┆ 230913_181 ┆ … ┆ rainy   ┆ 01021219   ┆ /datasets/ ┆ /datasets/ │\n",
       "│ erh_rainy_0 ┆         ┆        ┆ 649_K(1)   ┆   ┆         ┆            ┆ nia/231018 ┆ nia/231018 │\n",
       "│ 1021219_F   ┆         ┆        ┆            ┆   ┆         ┆            ┆ /collectio ┆ /annotatio │\n",
       "│             ┆         ┆        ┆            ┆   ┆         ┆            ┆ ns…        ┆ ns…        │\n",
       "│ CK_A01_R01_ ┆ image_L ┆ 231018 ┆ 230913_181 ┆ … ┆ rainy   ┆ 01021219   ┆ /datasets/ ┆ /datasets/ │\n",
       "│ erh_rainy_0 ┆         ┆        ┆ 649_K(1)   ┆   ┆         ┆            ┆ nia/231018 ┆ nia/231018 │\n",
       "│ 1021219_L   ┆         ┆        ┆            ┆   ┆         ┆            ┆ /collectio ┆ /annotatio │\n",
       "│             ┆         ┆        ┆            ┆   ┆         ┆            ┆ ns…        ┆ ns…        │\n",
       "│ CK_A01_R01_ ┆ image_R ┆ 231018 ┆ 230913_181 ┆ … ┆ rainy   ┆ 01021219   ┆ /datasets/ ┆ /datasets/ │\n",
       "│ erh_rainy_0 ┆         ┆        ┆ 649_K(1)   ┆   ┆         ┆            ┆ nia/231018 ┆ nia/231018 │\n",
       "│ 1021219_R   ┆         ┆        ┆            ┆   ┆         ┆            ┆ /collectio ┆ /annotatio │\n",
       "│             ┆         ┆        ┆            ┆   ┆         ┆            ┆ ns…        ┆ ns…        │\n",
       "│ …           ┆ …       ┆ …      ┆ …          ┆ … ┆ …       ┆ …          ┆ …          ┆ …          │\n",
       "│ TK_B13_R05_ ┆ thermal ┆ 230927 ┆ 230822_164 ┆ … ┆ clear   ┆ 01001513   ┆ /datasets/ ┆ /datasets/ │\n",
       "│ afterschool ┆         ┆        ┆ 041_K(2)   ┆   ┆         ┆            ┆ nia/230927 ┆ nia/230927 │\n",
       "│ _clear_010… ┆         ┆        ┆            ┆   ┆         ┆            ┆ /collectio ┆ /annotatio │\n",
       "│             ┆         ┆        ┆            ┆   ┆         ┆            ┆ ns…        ┆ ns…        │\n",
       "│ TK_B13_R05_ ┆ thermal ┆ 230927 ┆ 230822_164 ┆ … ┆ clear   ┆ 01001514   ┆ /datasets/ ┆ /datasets/ │\n",
       "│ afterschool ┆         ┆        ┆ 041_K(2)   ┆   ┆         ┆            ┆ nia/230927 ┆ nia/230927 │\n",
       "│ _clear_010… ┆         ┆        ┆            ┆   ┆         ┆            ┆ /collectio ┆ /annotatio │\n",
       "│             ┆         ┆        ┆            ┆   ┆         ┆            ┆ ns…        ┆ ns…        │\n",
       "│ TK_B13_R05_ ┆ thermal ┆ 230927 ┆ 230822_164 ┆ … ┆ clear   ┆ 01001515   ┆ /datasets/ ┆ /datasets/ │\n",
       "│ afterschool ┆         ┆        ┆ 041_K(2)   ┆   ┆         ┆            ┆ nia/230927 ┆ nia/230927 │\n",
       "│ _clear_010… ┆         ┆        ┆            ┆   ┆         ┆            ┆ /collectio ┆ /annotatio │\n",
       "│             ┆         ┆        ┆            ┆   ┆         ┆            ┆ ns…        ┆ ns…        │\n",
       "│ TK_B13_R05_ ┆ thermal ┆ 230927 ┆ 230822_164 ┆ … ┆ clear   ┆ 01001516   ┆ /datasets/ ┆ /datasets/ │\n",
       "│ afterschool ┆         ┆        ┆ 041_K(2)   ┆   ┆         ┆            ┆ nia/230927 ┆ nia/230927 │\n",
       "│ _clear_010… ┆         ┆        ┆            ┆   ┆         ┆            ┆ /collectio ┆ /annotatio │\n",
       "│             ┆         ┆        ┆            ┆   ┆         ┆            ┆ ns…        ┆ ns…        │\n",
       "└─────────────┴─────────┴────────┴────────────┴───┴─────────┴────────────┴────────────┴────────────┘"
      ]
     },
     "execution_count": 14,
     "metadata": {},
     "output_type": "execute_result"
    }
   ],
   "source": [
    "paired_df = paired_df.drop_nulls().sort(\"stem\")\n",
    "paired_df"
   ]
  },
  {
   "cell_type": "markdown",
   "metadata": {},
   "source": [
    "# Prepare dataset splits"
   ]
  },
  {
   "cell_type": "markdown",
   "metadata": {},
   "source": [
    "## Random splits"
   ]
  },
  {
   "cell_type": "markdown",
   "metadata": {},
   "source": [
    "### Set hyper-parameters for random splits"
   ]
  },
  {
   "cell_type": "code",
   "execution_count": 15,
   "metadata": {},
   "outputs": [],
   "source": [
    "seed = 231111\n",
    "splits = [\"train\", \"valid\", \"test\"]\n",
    "ratios = [2, 5, 3]\n",
    "shuffle_groups = (\"volume\", \"channel\", \"code_1\", \"code_2\", \"timeslot\", \"weather\")"
   ]
  },
  {
   "cell_type": "code",
   "execution_count": 16,
   "metadata": {},
   "outputs": [],
   "source": [
    "split_dfs = []\n",
    "for group, grouped_df in paired_df.sort(\"stem\").with_row_count(\"index\").group_by(shuffle_groups):\n",
    "    num_samples = len(grouped_df)\n",
    "\n",
    "    slice_indices_df = pl.DataFrame({\n",
    "        \"split\": splits,\n",
    "        \"ratio\": ratios,\n",
    "    }).with_columns(\n",
    "        (pl.col(\"ratio\") / pl.col(\"ratio\").sum()).alias(\"proportion\"),\n",
    "    ).with_columns(\n",
    "        (pl.col(\"proportion\").cumsum() * num_samples).round().cast(pl.Int64).alias(\"end_index\"),\n",
    "    ).with_columns(\n",
    "        pl.col(\"end_index\").shift(1, fill_value=0).alias(\"start_index\"),\n",
    "    ).with_columns(\n",
    "        (pl.col(\"end_index\") - pl.col(\"start_index\")).alias('length')\n",
    "    )\n",
    "\n",
    "    split_df = grouped_df.with_row_count().select(\n",
    "        pl.col(\"index\"),\n",
    "        pl.col(\"row_nr\"),\n",
    "        pl.lit(None).alias(\"split\"),\n",
    "    )\n",
    "\n",
    "    for split, end_index in slice_indices_df.rows_by_key((\"split\", \"end_index\")):\n",
    "        split_df = split_df.with_columns(\n",
    "            pl.when((pl.col(\"row_nr\") < end_index) & (pl.col(\"split\") == None))\n",
    "            .then(pl.lit(split))\n",
    "            .otherwise(pl.col(\"split\"))\n",
    "            .alias(\"split\")\n",
    "        )\n",
    "    \n",
    "    seed += 1\n",
    "    random_split_series = split_df.get_column(\"split\").sample(num_samples, shuffle=True, seed=seed)\n",
    "    \n",
    "    split_dfs.append(\n",
    "        split_df.select(\n",
    "            pl.col(\"index\"),\n",
    "            random_split_series.alias(\"split\"),\n",
    "        ),\n",
    "    )"
   ]
  },
  {
   "cell_type": "code",
   "execution_count": 17,
   "metadata": {},
   "outputs": [
    {
     "data": {
      "text/html": [
       "<div><style>\n",
       ".dataframe > thead > tr > th,\n",
       ".dataframe > tbody > tr > td {\n",
       "  text-align: right;\n",
       "  white-space: pre-wrap;\n",
       "}\n",
       "</style>\n",
       "<small>shape: (82_978, 13)</small><table border=\"1\" class=\"dataframe\"><thead><tr><th>stem</th><th>channel</th><th>volume</th><th>scene</th><th>sensor</th><th>code_1</th><th>code_2</th><th>timeslot</th><th>weather</th><th>annotation_id</th><th>collection_path</th><th>annotation_path</th><th>split</th></tr><tr><td>str</td><td>str</td><td>str</td><td>str</td><td>str</td><td>str</td><td>str</td><td>str</td><td>str</td><td>str</td><td>str</td><td>str</td><td>str</td></tr></thead><tbody><tr><td>&quot;CK_A01_R01_erh…</td><td>&quot;image_B&quot;</td><td>&quot;231018&quot;</td><td>&quot;230913_181649_…</td><td>&quot;CK&quot;</td><td>&quot;A01&quot;</td><td>&quot;R01&quot;</td><td>&quot;erh&quot;</td><td>&quot;rainy&quot;</td><td>&quot;01021219&quot;</td><td>&quot;/datasets/nia/…</td><td>&quot;/datasets/nia/…</td><td>&quot;train&quot;</td></tr><tr><td>&quot;CK_A01_R01_erh…</td><td>&quot;image_F&quot;</td><td>&quot;231018&quot;</td><td>&quot;230913_181649_…</td><td>&quot;CK&quot;</td><td>&quot;A01&quot;</td><td>&quot;R01&quot;</td><td>&quot;erh&quot;</td><td>&quot;rainy&quot;</td><td>&quot;01021219&quot;</td><td>&quot;/datasets/nia/…</td><td>&quot;/datasets/nia/…</td><td>&quot;valid&quot;</td></tr><tr><td>&quot;CK_A01_R01_erh…</td><td>&quot;image_L&quot;</td><td>&quot;231018&quot;</td><td>&quot;230913_181649_…</td><td>&quot;CK&quot;</td><td>&quot;A01&quot;</td><td>&quot;R01&quot;</td><td>&quot;erh&quot;</td><td>&quot;rainy&quot;</td><td>&quot;01021219&quot;</td><td>&quot;/datasets/nia/…</td><td>&quot;/datasets/nia/…</td><td>&quot;test&quot;</td></tr><tr><td>&quot;CK_A01_R01_erh…</td><td>&quot;image_R&quot;</td><td>&quot;231018&quot;</td><td>&quot;230913_181649_…</td><td>&quot;CK&quot;</td><td>&quot;A01&quot;</td><td>&quot;R01&quot;</td><td>&quot;erh&quot;</td><td>&quot;rainy&quot;</td><td>&quot;01021219&quot;</td><td>&quot;/datasets/nia/…</td><td>&quot;/datasets/nia/…</td><td>&quot;test&quot;</td></tr><tr><td>&quot;CK_A01_R01_erh…</td><td>&quot;image_B&quot;</td><td>&quot;231018&quot;</td><td>&quot;230913_181649_…</td><td>&quot;CK&quot;</td><td>&quot;A01&quot;</td><td>&quot;R01&quot;</td><td>&quot;erh&quot;</td><td>&quot;rainy&quot;</td><td>&quot;01021220&quot;</td><td>&quot;/datasets/nia/…</td><td>&quot;/datasets/nia/…</td><td>&quot;valid&quot;</td></tr><tr><td>&quot;CK_A01_R01_erh…</td><td>&quot;image_F&quot;</td><td>&quot;231018&quot;</td><td>&quot;230913_181649_…</td><td>&quot;CK&quot;</td><td>&quot;A01&quot;</td><td>&quot;R01&quot;</td><td>&quot;erh&quot;</td><td>&quot;rainy&quot;</td><td>&quot;01021220&quot;</td><td>&quot;/datasets/nia/…</td><td>&quot;/datasets/nia/…</td><td>&quot;valid&quot;</td></tr><tr><td>&quot;CK_A01_R01_erh…</td><td>&quot;image_L&quot;</td><td>&quot;231018&quot;</td><td>&quot;230913_181649_…</td><td>&quot;CK&quot;</td><td>&quot;A01&quot;</td><td>&quot;R01&quot;</td><td>&quot;erh&quot;</td><td>&quot;rainy&quot;</td><td>&quot;01021220&quot;</td><td>&quot;/datasets/nia/…</td><td>&quot;/datasets/nia/…</td><td>&quot;test&quot;</td></tr><tr><td>&quot;CK_A01_R01_erh…</td><td>&quot;image_R&quot;</td><td>&quot;231018&quot;</td><td>&quot;230913_181649_…</td><td>&quot;CK&quot;</td><td>&quot;A01&quot;</td><td>&quot;R01&quot;</td><td>&quot;erh&quot;</td><td>&quot;rainy&quot;</td><td>&quot;01021220&quot;</td><td>&quot;/datasets/nia/…</td><td>&quot;/datasets/nia/…</td><td>&quot;valid&quot;</td></tr><tr><td>&quot;CK_A01_R01_erh…</td><td>&quot;image_B&quot;</td><td>&quot;231018&quot;</td><td>&quot;230913_181649_…</td><td>&quot;CK&quot;</td><td>&quot;A01&quot;</td><td>&quot;R01&quot;</td><td>&quot;erh&quot;</td><td>&quot;rainy&quot;</td><td>&quot;01021221&quot;</td><td>&quot;/datasets/nia/…</td><td>&quot;/datasets/nia/…</td><td>&quot;train&quot;</td></tr><tr><td>&quot;CK_A01_R01_erh…</td><td>&quot;image_F&quot;</td><td>&quot;231018&quot;</td><td>&quot;230913_181649_…</td><td>&quot;CK&quot;</td><td>&quot;A01&quot;</td><td>&quot;R01&quot;</td><td>&quot;erh&quot;</td><td>&quot;rainy&quot;</td><td>&quot;01021221&quot;</td><td>&quot;/datasets/nia/…</td><td>&quot;/datasets/nia/…</td><td>&quot;test&quot;</td></tr><tr><td>&quot;CK_A01_R01_erh…</td><td>&quot;image_L&quot;</td><td>&quot;231018&quot;</td><td>&quot;230913_181649_…</td><td>&quot;CK&quot;</td><td>&quot;A01&quot;</td><td>&quot;R01&quot;</td><td>&quot;erh&quot;</td><td>&quot;rainy&quot;</td><td>&quot;01021221&quot;</td><td>&quot;/datasets/nia/…</td><td>&quot;/datasets/nia/…</td><td>&quot;valid&quot;</td></tr><tr><td>&quot;CK_A01_R01_erh…</td><td>&quot;image_R&quot;</td><td>&quot;231018&quot;</td><td>&quot;230913_181649_…</td><td>&quot;CK&quot;</td><td>&quot;A01&quot;</td><td>&quot;R01&quot;</td><td>&quot;erh&quot;</td><td>&quot;rainy&quot;</td><td>&quot;01021221&quot;</td><td>&quot;/datasets/nia/…</td><td>&quot;/datasets/nia/…</td><td>&quot;valid&quot;</td></tr><tr><td>&hellip;</td><td>&hellip;</td><td>&hellip;</td><td>&hellip;</td><td>&hellip;</td><td>&hellip;</td><td>&hellip;</td><td>&hellip;</td><td>&hellip;</td><td>&hellip;</td><td>&hellip;</td><td>&hellip;</td><td>&hellip;</td></tr><tr><td>&quot;TK_B13_R05_aft…</td><td>&quot;thermal&quot;</td><td>&quot;230927&quot;</td><td>&quot;230822_164041_…</td><td>&quot;TK&quot;</td><td>&quot;B13&quot;</td><td>&quot;R05&quot;</td><td>&quot;afterschool&quot;</td><td>&quot;clear&quot;</td><td>&quot;01001505&quot;</td><td>&quot;/datasets/nia/…</td><td>&quot;/datasets/nia/…</td><td>&quot;test&quot;</td></tr><tr><td>&quot;TK_B13_R05_aft…</td><td>&quot;thermal&quot;</td><td>&quot;230927&quot;</td><td>&quot;230822_164041_…</td><td>&quot;TK&quot;</td><td>&quot;B13&quot;</td><td>&quot;R05&quot;</td><td>&quot;afterschool&quot;</td><td>&quot;clear&quot;</td><td>&quot;01001506&quot;</td><td>&quot;/datasets/nia/…</td><td>&quot;/datasets/nia/…</td><td>&quot;valid&quot;</td></tr><tr><td>&quot;TK_B13_R05_aft…</td><td>&quot;thermal&quot;</td><td>&quot;230927&quot;</td><td>&quot;230822_164041_…</td><td>&quot;TK&quot;</td><td>&quot;B13&quot;</td><td>&quot;R05&quot;</td><td>&quot;afterschool&quot;</td><td>&quot;clear&quot;</td><td>&quot;01001507&quot;</td><td>&quot;/datasets/nia/…</td><td>&quot;/datasets/nia/…</td><td>&quot;test&quot;</td></tr><tr><td>&quot;TK_B13_R05_aft…</td><td>&quot;thermal&quot;</td><td>&quot;230927&quot;</td><td>&quot;230822_164041_…</td><td>&quot;TK&quot;</td><td>&quot;B13&quot;</td><td>&quot;R05&quot;</td><td>&quot;afterschool&quot;</td><td>&quot;clear&quot;</td><td>&quot;01001508&quot;</td><td>&quot;/datasets/nia/…</td><td>&quot;/datasets/nia/…</td><td>&quot;valid&quot;</td></tr><tr><td>&quot;TK_B13_R05_aft…</td><td>&quot;thermal&quot;</td><td>&quot;230927&quot;</td><td>&quot;230822_164041_…</td><td>&quot;TK&quot;</td><td>&quot;B13&quot;</td><td>&quot;R05&quot;</td><td>&quot;afterschool&quot;</td><td>&quot;clear&quot;</td><td>&quot;01001509&quot;</td><td>&quot;/datasets/nia/…</td><td>&quot;/datasets/nia/…</td><td>&quot;train&quot;</td></tr><tr><td>&quot;TK_B13_R05_aft…</td><td>&quot;thermal&quot;</td><td>&quot;230927&quot;</td><td>&quot;230822_164041_…</td><td>&quot;TK&quot;</td><td>&quot;B13&quot;</td><td>&quot;R05&quot;</td><td>&quot;afterschool&quot;</td><td>&quot;clear&quot;</td><td>&quot;01001510&quot;</td><td>&quot;/datasets/nia/…</td><td>&quot;/datasets/nia/…</td><td>&quot;train&quot;</td></tr><tr><td>&quot;TK_B13_R05_aft…</td><td>&quot;thermal&quot;</td><td>&quot;230927&quot;</td><td>&quot;230822_164041_…</td><td>&quot;TK&quot;</td><td>&quot;B13&quot;</td><td>&quot;R05&quot;</td><td>&quot;afterschool&quot;</td><td>&quot;clear&quot;</td><td>&quot;01001511&quot;</td><td>&quot;/datasets/nia/…</td><td>&quot;/datasets/nia/…</td><td>&quot;valid&quot;</td></tr><tr><td>&quot;TK_B13_R05_aft…</td><td>&quot;thermal&quot;</td><td>&quot;230927&quot;</td><td>&quot;230822_164041_…</td><td>&quot;TK&quot;</td><td>&quot;B13&quot;</td><td>&quot;R05&quot;</td><td>&quot;afterschool&quot;</td><td>&quot;clear&quot;</td><td>&quot;01001512&quot;</td><td>&quot;/datasets/nia/…</td><td>&quot;/datasets/nia/…</td><td>&quot;train&quot;</td></tr><tr><td>&quot;TK_B13_R05_aft…</td><td>&quot;thermal&quot;</td><td>&quot;230927&quot;</td><td>&quot;230822_164041_…</td><td>&quot;TK&quot;</td><td>&quot;B13&quot;</td><td>&quot;R05&quot;</td><td>&quot;afterschool&quot;</td><td>&quot;clear&quot;</td><td>&quot;01001513&quot;</td><td>&quot;/datasets/nia/…</td><td>&quot;/datasets/nia/…</td><td>&quot;valid&quot;</td></tr><tr><td>&quot;TK_B13_R05_aft…</td><td>&quot;thermal&quot;</td><td>&quot;230927&quot;</td><td>&quot;230822_164041_…</td><td>&quot;TK&quot;</td><td>&quot;B13&quot;</td><td>&quot;R05&quot;</td><td>&quot;afterschool&quot;</td><td>&quot;clear&quot;</td><td>&quot;01001514&quot;</td><td>&quot;/datasets/nia/…</td><td>&quot;/datasets/nia/…</td><td>&quot;valid&quot;</td></tr><tr><td>&quot;TK_B13_R05_aft…</td><td>&quot;thermal&quot;</td><td>&quot;230927&quot;</td><td>&quot;230822_164041_…</td><td>&quot;TK&quot;</td><td>&quot;B13&quot;</td><td>&quot;R05&quot;</td><td>&quot;afterschool&quot;</td><td>&quot;clear&quot;</td><td>&quot;01001515&quot;</td><td>&quot;/datasets/nia/…</td><td>&quot;/datasets/nia/…</td><td>&quot;train&quot;</td></tr><tr><td>&quot;TK_B13_R05_aft…</td><td>&quot;thermal&quot;</td><td>&quot;230927&quot;</td><td>&quot;230822_164041_…</td><td>&quot;TK&quot;</td><td>&quot;B13&quot;</td><td>&quot;R05&quot;</td><td>&quot;afterschool&quot;</td><td>&quot;clear&quot;</td><td>&quot;01001516&quot;</td><td>&quot;/datasets/nia/…</td><td>&quot;/datasets/nia/…</td><td>&quot;valid&quot;</td></tr></tbody></table></div>"
      ],
      "text/plain": [
       "shape: (82_978, 13)\n",
       "┌─────────────┬─────────┬────────┬─────────────┬───┬─────────────┬────────────┬────────────┬───────┐\n",
       "│ stem        ┆ channel ┆ volume ┆ scene       ┆ … ┆ annotation_ ┆ collection ┆ annotation ┆ split │\n",
       "│ ---         ┆ ---     ┆ ---    ┆ ---         ┆   ┆ id          ┆ _path      ┆ _path      ┆ ---   │\n",
       "│ str         ┆ str     ┆ str    ┆ str         ┆   ┆ ---         ┆ ---        ┆ ---        ┆ str   │\n",
       "│             ┆         ┆        ┆             ┆   ┆ str         ┆ str        ┆ str        ┆       │\n",
       "╞═════════════╪═════════╪════════╪═════════════╪═══╪═════════════╪════════════╪════════════╪═══════╡\n",
       "│ CK_A01_R01_ ┆ image_B ┆ 231018 ┆ 230913_1816 ┆ … ┆ 01021219    ┆ /datasets/ ┆ /datasets/ ┆ train │\n",
       "│ erh_rainy_0 ┆         ┆        ┆ 49_K(1)     ┆   ┆             ┆ nia/231018 ┆ nia/231018 ┆       │\n",
       "│ 1021219_B   ┆         ┆        ┆             ┆   ┆             ┆ /collectio ┆ /annotatio ┆       │\n",
       "│             ┆         ┆        ┆             ┆   ┆             ┆ ns…        ┆ ns…        ┆       │\n",
       "│ CK_A01_R01_ ┆ image_F ┆ 231018 ┆ 230913_1816 ┆ … ┆ 01021219    ┆ /datasets/ ┆ /datasets/ ┆ valid │\n",
       "│ erh_rainy_0 ┆         ┆        ┆ 49_K(1)     ┆   ┆             ┆ nia/231018 ┆ nia/231018 ┆       │\n",
       "│ 1021219_F   ┆         ┆        ┆             ┆   ┆             ┆ /collectio ┆ /annotatio ┆       │\n",
       "│             ┆         ┆        ┆             ┆   ┆             ┆ ns…        ┆ ns…        ┆       │\n",
       "│ CK_A01_R01_ ┆ image_L ┆ 231018 ┆ 230913_1816 ┆ … ┆ 01021219    ┆ /datasets/ ┆ /datasets/ ┆ test  │\n",
       "│ erh_rainy_0 ┆         ┆        ┆ 49_K(1)     ┆   ┆             ┆ nia/231018 ┆ nia/231018 ┆       │\n",
       "│ 1021219_L   ┆         ┆        ┆             ┆   ┆             ┆ /collectio ┆ /annotatio ┆       │\n",
       "│             ┆         ┆        ┆             ┆   ┆             ┆ ns…        ┆ ns…        ┆       │\n",
       "│ CK_A01_R01_ ┆ image_R ┆ 231018 ┆ 230913_1816 ┆ … ┆ 01021219    ┆ /datasets/ ┆ /datasets/ ┆ test  │\n",
       "│ erh_rainy_0 ┆         ┆        ┆ 49_K(1)     ┆   ┆             ┆ nia/231018 ┆ nia/231018 ┆       │\n",
       "│ 1021219_R   ┆         ┆        ┆             ┆   ┆             ┆ /collectio ┆ /annotatio ┆       │\n",
       "│             ┆         ┆        ┆             ┆   ┆             ┆ ns…        ┆ ns…        ┆       │\n",
       "│ …           ┆ …       ┆ …      ┆ …           ┆ … ┆ …           ┆ …          ┆ …          ┆ …     │\n",
       "│ TK_B13_R05_ ┆ thermal ┆ 230927 ┆ 230822_1640 ┆ … ┆ 01001513    ┆ /datasets/ ┆ /datasets/ ┆ valid │\n",
       "│ afterschool ┆         ┆        ┆ 41_K(2)     ┆   ┆             ┆ nia/230927 ┆ nia/230927 ┆       │\n",
       "│ _clear_010… ┆         ┆        ┆             ┆   ┆             ┆ /collectio ┆ /annotatio ┆       │\n",
       "│             ┆         ┆        ┆             ┆   ┆             ┆ ns…        ┆ ns…        ┆       │\n",
       "│ TK_B13_R05_ ┆ thermal ┆ 230927 ┆ 230822_1640 ┆ … ┆ 01001514    ┆ /datasets/ ┆ /datasets/ ┆ valid │\n",
       "│ afterschool ┆         ┆        ┆ 41_K(2)     ┆   ┆             ┆ nia/230927 ┆ nia/230927 ┆       │\n",
       "│ _clear_010… ┆         ┆        ┆             ┆   ┆             ┆ /collectio ┆ /annotatio ┆       │\n",
       "│             ┆         ┆        ┆             ┆   ┆             ┆ ns…        ┆ ns…        ┆       │\n",
       "│ TK_B13_R05_ ┆ thermal ┆ 230927 ┆ 230822_1640 ┆ … ┆ 01001515    ┆ /datasets/ ┆ /datasets/ ┆ train │\n",
       "│ afterschool ┆         ┆        ┆ 41_K(2)     ┆   ┆             ┆ nia/230927 ┆ nia/230927 ┆       │\n",
       "│ _clear_010… ┆         ┆        ┆             ┆   ┆             ┆ /collectio ┆ /annotatio ┆       │\n",
       "│             ┆         ┆        ┆             ┆   ┆             ┆ ns…        ┆ ns…        ┆       │\n",
       "│ TK_B13_R05_ ┆ thermal ┆ 230927 ┆ 230822_1640 ┆ … ┆ 01001516    ┆ /datasets/ ┆ /datasets/ ┆ valid │\n",
       "│ afterschool ┆         ┆        ┆ 41_K(2)     ┆   ┆             ┆ nia/230927 ┆ nia/230927 ┆       │\n",
       "│ _clear_010… ┆         ┆        ┆             ┆   ┆             ┆ /collectio ┆ /annotatio ┆       │\n",
       "│             ┆         ┆        ┆             ┆   ┆             ┆ ns…        ┆ ns…        ┆       │\n",
       "└─────────────┴─────────┴────────┴─────────────┴───┴─────────────┴────────────┴────────────┴───────┘"
      ]
     },
     "execution_count": 17,
     "metadata": {},
     "output_type": "execute_result"
    }
   ],
   "source": [
    "random_split_series = pl.concat(split_dfs).sort(\"index\").get_column(\"split\")\n",
    "paired_df.sort(\"stem\").with_columns(random_split_series)"
   ]
  }
 ],
 "metadata": {
  "kernelspec": {
   "display_name": "Python 3",
   "language": "python",
   "name": "python3"
  },
  "language_info": {
   "codemirror_mode": {
    "name": "ipython",
    "version": 3
   },
   "file_extension": ".py",
   "mimetype": "text/x-python",
   "name": "python",
   "nbconvert_exporter": "python",
   "pygments_lexer": "ipython3",
   "version": "3.10.12"
  }
 },
 "nbformat": 4,
 "nbformat_minor": 2
}
