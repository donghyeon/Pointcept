{
 "cells": [
  {
   "cell_type": "code",
   "execution_count": 1,
   "metadata": {},
   "outputs": [
    {
     "name": "stdout",
     "output_type": "stream",
     "text": [
      "Jupyter environment detected. Enabling Open3D WebVisualizer.\n",
      "[Open3D INFO] WebRTC GUI backend enabled.\n",
      "[Open3D INFO] WebRTCWindowSystem: HTTP handshake server disabled.\n"
     ]
    }
   ],
   "source": [
    "from pathlib import Path\n",
    "import shutil\n",
    "from concurrent.futures import ThreadPoolExecutor\n",
    "\n",
    "import polars as pl\n",
    "\n",
    "from pointcept.datasets.nia_dataset_reader import (\n",
    "    NiaDataPathExtractor,\n",
    "    DataFrameSplitter,\n",
    "    NiaDataPathProvider,\n",
    ")"
   ]
  },
  {
   "cell_type": "code",
   "execution_count": 2,
   "metadata": {},
   "outputs": [],
   "source": [
    "path_provider = NiaDataPathProvider(\n",
    "    reader=NiaDataPathExtractor(\n",
    "        dataset_dir=\"/datasets/nia/old/\",\n",
    "        pattern=(\n",
    "            r\"(?P<type>[^/]+)/\"\n",
    "            r\"(?P<collector>[^/]+)/\"\n",
    "            r\".*?\"\n",
    "            r\"(?P<channel>[^/]+)/\"\n",
    "            r\"(?P<filename>[^/]+)$\"\n",
    "        ),                \n",
    "    ),\n",
    "    splitter = DataFrameSplitter(\n",
    "        groups=[\"collector\", \"scene\", \"road\", \"timeslot\", \"weather\"],\n",
    "        splits=[\"train\", \"valid\", \"test\"],\n",
    "        ratios=[8, 1, 1],\n",
    "        seed=231111,\n",
    "    ),\n",
    ")"
   ]
  },
  {
   "cell_type": "code",
   "execution_count": 3,
   "metadata": {},
   "outputs": [
    {
     "data": {
      "text/html": [
       "<div><style>\n",
       ".dataframe > thead > tr,\n",
       ".dataframe > tbody > tr {\n",
       "  text-align: right;\n",
       "  white-space: pre-wrap;\n",
       "}\n",
       "</style>\n",
       "<small>shape: (620_026, 13)</small><table border=\"1\" class=\"dataframe\"><thead><tr><th>index</th><th>stem</th><th>collector</th><th>channel</th><th>sensor</th><th>scene</th><th>road</th><th>timeslot</th><th>weather</th><th>annotation_id</th><th>collection_path</th><th>annotation_path</th><th>split</th></tr><tr><td>u32</td><td>str</td><td>str</td><td>str</td><td>str</td><td>str</td><td>str</td><td>str</td><td>str</td><td>str</td><td>str</td><td>str</td><td>str</td></tr></thead><tbody><tr><td>0</td><td>&quot;CK_A01_R01_day…</td><td>&quot;calib_K&quot;</td><td>&quot;image_B&quot;</td><td>&quot;CK&quot;</td><td>&quot;A01&quot;</td><td>&quot;R01&quot;</td><td>&quot;day&quot;</td><td>&quot;clear&quot;</td><td>&quot;01008462&quot;</td><td>&quot;/datasets/nia/…</td><td>&quot;/datasets/nia/…</td><td>&quot;train&quot;</td></tr><tr><td>0</td><td>&quot;CK_A01_R01_day…</td><td>&quot;calib_K&quot;</td><td>&quot;image_F&quot;</td><td>&quot;CK&quot;</td><td>&quot;A01&quot;</td><td>&quot;R01&quot;</td><td>&quot;day&quot;</td><td>&quot;clear&quot;</td><td>&quot;01008462&quot;</td><td>&quot;/datasets/nia/…</td><td>&quot;/datasets/nia/…</td><td>&quot;train&quot;</td></tr><tr><td>0</td><td>&quot;CK_A01_R01_day…</td><td>&quot;calib_K&quot;</td><td>&quot;keypoint&quot;</td><td>&quot;CK&quot;</td><td>&quot;A01&quot;</td><td>&quot;R01&quot;</td><td>&quot;day&quot;</td><td>&quot;clear&quot;</td><td>&quot;01008462&quot;</td><td>&quot;/datasets/nia/…</td><td>&quot;/datasets/nia/…</td><td>&quot;train&quot;</td></tr><tr><td>0</td><td>&quot;CK_A01_R01_day…</td><td>&quot;calib_K&quot;</td><td>&quot;image_L&quot;</td><td>&quot;CK&quot;</td><td>&quot;A01&quot;</td><td>&quot;R01&quot;</td><td>&quot;day&quot;</td><td>&quot;clear&quot;</td><td>&quot;01008462&quot;</td><td>&quot;/datasets/nia/…</td><td>&quot;/datasets/nia/…</td><td>&quot;train&quot;</td></tr><tr><td>0</td><td>&quot;CK_A01_R01_day…</td><td>&quot;calib_K&quot;</td><td>&quot;image_R&quot;</td><td>&quot;CK&quot;</td><td>&quot;A01&quot;</td><td>&quot;R01&quot;</td><td>&quot;day&quot;</td><td>&quot;clear&quot;</td><td>&quot;01008462&quot;</td><td>&quot;/datasets/nia/…</td><td>&quot;/datasets/nia/…</td><td>&quot;train&quot;</td></tr><tr><td>0</td><td>&quot;LK_A01_R01_day…</td><td>&quot;calib_K&quot;</td><td>&quot;lidar&quot;</td><td>&quot;LK&quot;</td><td>&quot;A01&quot;</td><td>&quot;R01&quot;</td><td>&quot;day&quot;</td><td>&quot;clear&quot;</td><td>&quot;01008462&quot;</td><td>&quot;/datasets/nia/…</td><td>&quot;/datasets/nia/…</td><td>&quot;train&quot;</td></tr><tr><td>0</td><td>&quot;TK_A01_R01_day…</td><td>&quot;calib_K&quot;</td><td>&quot;thermal&quot;</td><td>&quot;TK&quot;</td><td>&quot;A01&quot;</td><td>&quot;R01&quot;</td><td>&quot;day&quot;</td><td>&quot;clear&quot;</td><td>&quot;01008462&quot;</td><td>&quot;/datasets/nia/…</td><td>&quot;/datasets/nia/…</td><td>&quot;train&quot;</td></tr><tr><td>1</td><td>&quot;CK_A01_R01_day…</td><td>&quot;calib_K&quot;</td><td>&quot;image_B&quot;</td><td>&quot;CK&quot;</td><td>&quot;A01&quot;</td><td>&quot;R01&quot;</td><td>&quot;day&quot;</td><td>&quot;clear&quot;</td><td>&quot;01008463&quot;</td><td>&quot;/datasets/nia/…</td><td>&quot;/datasets/nia/…</td><td>&quot;train&quot;</td></tr><tr><td>1</td><td>&quot;CK_A01_R01_day…</td><td>&quot;calib_K&quot;</td><td>&quot;image_F&quot;</td><td>&quot;CK&quot;</td><td>&quot;A01&quot;</td><td>&quot;R01&quot;</td><td>&quot;day&quot;</td><td>&quot;clear&quot;</td><td>&quot;01008463&quot;</td><td>&quot;/datasets/nia/…</td><td>&quot;/datasets/nia/…</td><td>&quot;train&quot;</td></tr><tr><td>1</td><td>&quot;CK_A01_R01_day…</td><td>&quot;calib_K&quot;</td><td>&quot;image_L&quot;</td><td>&quot;CK&quot;</td><td>&quot;A01&quot;</td><td>&quot;R01&quot;</td><td>&quot;day&quot;</td><td>&quot;clear&quot;</td><td>&quot;01008463&quot;</td><td>&quot;/datasets/nia/…</td><td>&quot;/datasets/nia/…</td><td>&quot;train&quot;</td></tr><tr><td>1</td><td>&quot;CK_A01_R01_day…</td><td>&quot;calib_K&quot;</td><td>&quot;image_R&quot;</td><td>&quot;CK&quot;</td><td>&quot;A01&quot;</td><td>&quot;R01&quot;</td><td>&quot;day&quot;</td><td>&quot;clear&quot;</td><td>&quot;01008463&quot;</td><td>&quot;/datasets/nia/…</td><td>&quot;/datasets/nia/…</td><td>&quot;train&quot;</td></tr><tr><td>1</td><td>&quot;LK_A01_R01_day…</td><td>&quot;calib_K&quot;</td><td>&quot;lidar&quot;</td><td>&quot;LK&quot;</td><td>&quot;A01&quot;</td><td>&quot;R01&quot;</td><td>&quot;day&quot;</td><td>&quot;clear&quot;</td><td>&quot;01008463&quot;</td><td>&quot;/datasets/nia/…</td><td>&quot;/datasets/nia/…</td><td>&quot;train&quot;</td></tr><tr><td>&hellip;</td><td>&hellip;</td><td>&hellip;</td><td>&hellip;</td><td>&hellip;</td><td>&hellip;</td><td>&hellip;</td><td>&hellip;</td><td>&hellip;</td><td>&hellip;</td><td>&hellip;</td><td>&hellip;</td><td>&hellip;</td></tr><tr><td>99998</td><td>&quot;CV_B14_R06_lun…</td><td>&quot;calib_V&quot;</td><td>&quot;image_B&quot;</td><td>&quot;CV&quot;</td><td>&quot;B14&quot;</td><td>&quot;R06&quot;</td><td>&quot;lunch&quot;</td><td>&quot;rainy&quot;</td><td>&quot;01115058&quot;</td><td>&quot;/datasets/nia/…</td><td>&quot;/datasets/nia/…</td><td>&quot;train&quot;</td></tr><tr><td>99998</td><td>&quot;CV_B14_R06_lun…</td><td>&quot;calib_V&quot;</td><td>&quot;image_F&quot;</td><td>&quot;CV&quot;</td><td>&quot;B14&quot;</td><td>&quot;R06&quot;</td><td>&quot;lunch&quot;</td><td>&quot;rainy&quot;</td><td>&quot;01115058&quot;</td><td>&quot;/datasets/nia/…</td><td>&quot;/datasets/nia/…</td><td>&quot;train&quot;</td></tr><tr><td>99998</td><td>&quot;CV_B14_R06_lun…</td><td>&quot;calib_V&quot;</td><td>&quot;image_L&quot;</td><td>&quot;CV&quot;</td><td>&quot;B14&quot;</td><td>&quot;R06&quot;</td><td>&quot;lunch&quot;</td><td>&quot;rainy&quot;</td><td>&quot;01115058&quot;</td><td>&quot;/datasets/nia/…</td><td>&quot;/datasets/nia/…</td><td>&quot;train&quot;</td></tr><tr><td>99998</td><td>&quot;CV_B14_R06_lun…</td><td>&quot;calib_V&quot;</td><td>&quot;image_R&quot;</td><td>&quot;CV&quot;</td><td>&quot;B14&quot;</td><td>&quot;R06&quot;</td><td>&quot;lunch&quot;</td><td>&quot;rainy&quot;</td><td>&quot;01115058&quot;</td><td>&quot;/datasets/nia/…</td><td>&quot;/datasets/nia/…</td><td>&quot;train&quot;</td></tr><tr><td>99998</td><td>&quot;LV_B14_R06_lun…</td><td>&quot;calib_V&quot;</td><td>&quot;lidar&quot;</td><td>&quot;LV&quot;</td><td>&quot;B14&quot;</td><td>&quot;R06&quot;</td><td>&quot;lunch&quot;</td><td>&quot;rainy&quot;</td><td>&quot;01115058&quot;</td><td>&quot;/datasets/nia/…</td><td>&quot;/datasets/nia/…</td><td>&quot;train&quot;</td></tr><tr><td>99998</td><td>&quot;TV_B14_R06_lun…</td><td>&quot;calib_V&quot;</td><td>&quot;thermal&quot;</td><td>&quot;TV&quot;</td><td>&quot;B14&quot;</td><td>&quot;R06&quot;</td><td>&quot;lunch&quot;</td><td>&quot;rainy&quot;</td><td>&quot;01115058&quot;</td><td>&quot;/datasets/nia/…</td><td>&quot;/datasets/nia/…</td><td>&quot;train&quot;</td></tr><tr><td>99999</td><td>&quot;CV_B14_R06_lun…</td><td>&quot;calib_V&quot;</td><td>&quot;image_B&quot;</td><td>&quot;CV&quot;</td><td>&quot;B14&quot;</td><td>&quot;R06&quot;</td><td>&quot;lunch&quot;</td><td>&quot;rainy&quot;</td><td>&quot;01115059&quot;</td><td>&quot;/datasets/nia/…</td><td>&quot;/datasets/nia/…</td><td>&quot;train&quot;</td></tr><tr><td>99999</td><td>&quot;CV_B14_R06_lun…</td><td>&quot;calib_V&quot;</td><td>&quot;image_F&quot;</td><td>&quot;CV&quot;</td><td>&quot;B14&quot;</td><td>&quot;R06&quot;</td><td>&quot;lunch&quot;</td><td>&quot;rainy&quot;</td><td>&quot;01115059&quot;</td><td>&quot;/datasets/nia/…</td><td>&quot;/datasets/nia/…</td><td>&quot;train&quot;</td></tr><tr><td>99999</td><td>&quot;CV_B14_R06_lun…</td><td>&quot;calib_V&quot;</td><td>&quot;image_L&quot;</td><td>&quot;CV&quot;</td><td>&quot;B14&quot;</td><td>&quot;R06&quot;</td><td>&quot;lunch&quot;</td><td>&quot;rainy&quot;</td><td>&quot;01115059&quot;</td><td>&quot;/datasets/nia/…</td><td>&quot;/datasets/nia/…</td><td>&quot;train&quot;</td></tr><tr><td>99999</td><td>&quot;CV_B14_R06_lun…</td><td>&quot;calib_V&quot;</td><td>&quot;image_R&quot;</td><td>&quot;CV&quot;</td><td>&quot;B14&quot;</td><td>&quot;R06&quot;</td><td>&quot;lunch&quot;</td><td>&quot;rainy&quot;</td><td>&quot;01115059&quot;</td><td>&quot;/datasets/nia/…</td><td>&quot;/datasets/nia/…</td><td>&quot;train&quot;</td></tr><tr><td>99999</td><td>&quot;LV_B14_R06_lun…</td><td>&quot;calib_V&quot;</td><td>&quot;lidar&quot;</td><td>&quot;LV&quot;</td><td>&quot;B14&quot;</td><td>&quot;R06&quot;</td><td>&quot;lunch&quot;</td><td>&quot;rainy&quot;</td><td>&quot;01115059&quot;</td><td>&quot;/datasets/nia/…</td><td>&quot;/datasets/nia/…</td><td>&quot;train&quot;</td></tr><tr><td>99999</td><td>&quot;TV_B14_R06_lun…</td><td>&quot;calib_V&quot;</td><td>&quot;thermal&quot;</td><td>&quot;TV&quot;</td><td>&quot;B14&quot;</td><td>&quot;R06&quot;</td><td>&quot;lunch&quot;</td><td>&quot;rainy&quot;</td><td>&quot;01115059&quot;</td><td>&quot;/datasets/nia/…</td><td>&quot;/datasets/nia/…</td><td>&quot;train&quot;</td></tr></tbody></table></div>"
      ],
      "text/plain": [
       "shape: (620_026, 13)\n",
       "┌───────┬─────────────┬───────────┬──────────┬───┬─────────────┬─────────────┬─────────────┬───────┐\n",
       "│ index ┆ stem        ┆ collector ┆ channel  ┆ … ┆ annotation_ ┆ collection_ ┆ annotation_ ┆ split │\n",
       "│ ---   ┆ ---         ┆ ---       ┆ ---      ┆   ┆ id          ┆ path        ┆ path        ┆ ---   │\n",
       "│ u32   ┆ str         ┆ str       ┆ str      ┆   ┆ ---         ┆ ---         ┆ ---         ┆ str   │\n",
       "│       ┆             ┆           ┆          ┆   ┆ str         ┆ str         ┆ str         ┆       │\n",
       "╞═══════╪═════════════╪═══════════╪══════════╪═══╪═════════════╪═════════════╪═════════════╪═══════╡\n",
       "│ 0     ┆ CK_A01_R01_ ┆ calib_K   ┆ image_B  ┆ … ┆ 01008462    ┆ /datasets/n ┆ /datasets/n ┆ train │\n",
       "│       ┆ day_clear_0 ┆           ┆          ┆   ┆             ┆ ia/old/1.원 ┆ ia/old/2.라 ┆       │\n",
       "│       ┆ 1008462_B   ┆           ┆          ┆   ┆             ┆ 천데이터/ca ┆ 벨링데이터/ ┆       │\n",
       "│       ┆             ┆           ┆          ┆   ┆             ┆ lib_…       ┆ calib…      ┆       │\n",
       "│ 0     ┆ CK_A01_R01_ ┆ calib_K   ┆ image_F  ┆ … ┆ 01008462    ┆ /datasets/n ┆ /datasets/n ┆ train │\n",
       "│       ┆ day_clear_0 ┆           ┆          ┆   ┆             ┆ ia/old/1.원 ┆ ia/old/2.라 ┆       │\n",
       "│       ┆ 1008462_F   ┆           ┆          ┆   ┆             ┆ 천데이터/ca ┆ 벨링데이터/ ┆       │\n",
       "│       ┆             ┆           ┆          ┆   ┆             ┆ lib_…       ┆ calib…      ┆       │\n",
       "│ 0     ┆ CK_A01_R01_ ┆ calib_K   ┆ keypoint ┆ … ┆ 01008462    ┆ /datasets/n ┆ /datasets/n ┆ train │\n",
       "│       ┆ day_clear_0 ┆           ┆          ┆   ┆             ┆ ia/old/1.원 ┆ ia/old/2.라 ┆       │\n",
       "│       ┆ 1008462_F   ┆           ┆          ┆   ┆             ┆ 천데이터/ca ┆ 벨링데이터/ ┆       │\n",
       "│       ┆             ┆           ┆          ┆   ┆             ┆ lib_…       ┆ 서브라벨링… ┆       │\n",
       "│ 0     ┆ CK_A01_R01_ ┆ calib_K   ┆ image_L  ┆ … ┆ 01008462    ┆ /datasets/n ┆ /datasets/n ┆ train │\n",
       "│       ┆ day_clear_0 ┆           ┆          ┆   ┆             ┆ ia/old/1.원 ┆ ia/old/2.라 ┆       │\n",
       "│       ┆ 1008462_L   ┆           ┆          ┆   ┆             ┆ 천데이터/ca ┆ 벨링데이터/ ┆       │\n",
       "│       ┆             ┆           ┆          ┆   ┆             ┆ lib_…       ┆ calib…      ┆       │\n",
       "│ …     ┆ …           ┆ …         ┆ …        ┆ … ┆ …           ┆ …           ┆ …           ┆ …     │\n",
       "│ 99999 ┆ CV_B14_R06_ ┆ calib_V   ┆ image_L  ┆ … ┆ 01115059    ┆ /datasets/n ┆ /datasets/n ┆ train │\n",
       "│       ┆ lunch_rainy ┆           ┆          ┆   ┆             ┆ ia/old/1.원 ┆ ia/old/2.라 ┆       │\n",
       "│       ┆ _01115059_… ┆           ┆          ┆   ┆             ┆ 천데이터/ca ┆ 벨링데이터/ ┆       │\n",
       "│       ┆             ┆           ┆          ┆   ┆             ┆ lib_…       ┆ calib…      ┆       │\n",
       "│ 99999 ┆ CV_B14_R06_ ┆ calib_V   ┆ image_R  ┆ … ┆ 01115059    ┆ /datasets/n ┆ /datasets/n ┆ train │\n",
       "│       ┆ lunch_rainy ┆           ┆          ┆   ┆             ┆ ia/old/1.원 ┆ ia/old/2.라 ┆       │\n",
       "│       ┆ _01115059_… ┆           ┆          ┆   ┆             ┆ 천데이터/ca ┆ 벨링데이터/ ┆       │\n",
       "│       ┆             ┆           ┆          ┆   ┆             ┆ lib_…       ┆ calib…      ┆       │\n",
       "│ 99999 ┆ LV_B14_R06_ ┆ calib_V   ┆ lidar    ┆ … ┆ 01115059    ┆ /datasets/n ┆ /datasets/n ┆ train │\n",
       "│       ┆ lunch_rainy ┆           ┆          ┆   ┆             ┆ ia/old/1.원 ┆ ia/old/2.라 ┆       │\n",
       "│       ┆ _01115059   ┆           ┆          ┆   ┆             ┆ 천데이터/ca ┆ 벨링데이터/ ┆       │\n",
       "│       ┆             ┆           ┆          ┆   ┆             ┆ lib_…       ┆ calib…      ┆       │\n",
       "│ 99999 ┆ TV_B14_R06_ ┆ calib_V   ┆ thermal  ┆ … ┆ 01115059    ┆ /datasets/n ┆ /datasets/n ┆ train │\n",
       "│       ┆ lunch_rainy ┆           ┆          ┆   ┆             ┆ ia/old/1.원 ┆ ia/old/2.라 ┆       │\n",
       "│       ┆ _01115059   ┆           ┆          ┆   ┆             ┆ 천데이터/ca ┆ 벨링데이터/ ┆       │\n",
       "│       ┆             ┆           ┆          ┆   ┆             ┆ lib_…       ┆ calib…      ┆       │\n",
       "└───────┴─────────────┴───────────┴──────────┴───┴─────────────┴─────────────┴─────────────┴───────┘"
      ]
     },
     "execution_count": 3,
     "metadata": {},
     "output_type": "execute_result"
    }
   ],
   "source": [
    "path_provider.nia_df"
   ]
  },
  {
   "cell_type": "code",
   "execution_count": 4,
   "metadata": {},
   "outputs": [],
   "source": [
    "main_channels = [\"image_B\", \"image_F\", \"image_L\", \"image_R\", \"lidar\", \"thermal\"]\n",
    "sub_channels = [\"ImageCaption\", \"keypoint\"]\n",
    "\n",
    "old_dataset_dir = \"/datasets/nia/old/\"\n",
    "new_dataset_dir = \"/datasets/nia/new/\"\n",
    "\n",
    "split_path_map = {\n",
    "    \"train\": \"1.Training/\",\n",
    "    \"valid\": \"2.Validation/\",\n",
    "    \"test\": \"3.Test/\",\n",
    "}"
   ]
  },
  {
   "cell_type": "code",
   "execution_count": 5,
   "metadata": {},
   "outputs": [],
   "source": [
    "main_df = path_provider.nia_df.filter(\n",
    "    pl.col(\"channel\").is_in(main_channels),\n",
    ").with_columns(\n",
    "    (\n",
    "        new_dataset_dir +\n",
    "        pl.concat_str([\n",
    "            pl.col(\"split\").replace(split_path_map),\n",
    "            pl.col(\"collection_path\").str.strip_prefix(old_dataset_dir),\n",
    "        ])\n",
    "    ).alias(\"new_collection_path\"),\n",
    "    (\n",
    "        new_dataset_dir +\n",
    "        pl.concat_str([\n",
    "            pl.col(\"split\").replace(split_path_map),\n",
    "            pl.col(\"annotation_path\").str.strip_prefix(old_dataset_dir),\n",
    "        ])\n",
    "    ).alias(\"new_annotation_path\"),\n",
    ").rename({\n",
    "    \"collection_path\": \"old_collection_path\",\n",
    "    \"annotation_path\": \"old_annotation_path\",\n",
    "})"
   ]
  },
  {
   "cell_type": "code",
   "execution_count": 6,
   "metadata": {},
   "outputs": [
    {
     "data": {
      "text/plain": [
       "('/datasets/nia/old/1.원천데이터/calib_K/가시광이미지/image_B/CK_A01_R01_day_clear_01008462_B.png',\n",
       " '/datasets/nia/new/1.Training/1.원천데이터/calib_K/가시광이미지/image_B/CK_A01_R01_day_clear_01008462_B.png',\n",
       " '/datasets/nia/old/2.라벨링데이터/calib_K/가시광이미지/image_B/CK_A01_R01_day_clear_01008462_B.png.json',\n",
       " '/datasets/nia/new/1.Training/2.라벨링데이터/calib_K/가시광이미지/image_B/CK_A01_R01_day_clear_01008462_B.png.json')"
      ]
     },
     "execution_count": 6,
     "metadata": {},
     "output_type": "execute_result"
    }
   ],
   "source": [
    "main_df[\"old_collection_path\"][0], main_df[\"new_collection_path\"][0], main_df[\"old_annotation_path\"][0], main_df[\"new_annotation_path\"][0]"
   ]
  },
  {
   "cell_type": "code",
   "execution_count": 7,
   "metadata": {},
   "outputs": [],
   "source": [
    "sub_df = path_provider.nia_df.filter(\n",
    "    pl.col(\"channel\").is_in(sub_channels),\n",
    ").with_columns(\n",
    "    (\n",
    "        new_dataset_dir + \"6.서브라벨링/1.원천데이터/\" +\n",
    "        pl.concat_str([\n",
    "            pl.col(\"split\").replace(split_path_map),\n",
    "            pl.col(\"annotation_path\").str.strip_prefix(old_dataset_dir + \"2.라벨링데이터/서브라벨링/\"),\n",
    "        ])\n",
    "    ).alias(\"new_collection_path\"),\n",
    "    (\n",
    "        new_dataset_dir + \"6.서브라벨링/2.라벨링데이터/\" +\n",
    "        pl.concat_str([\n",
    "            pl.col(\"split\").replace(split_path_map),\n",
    "            pl.col(\"annotation_path\").str.strip_prefix(old_dataset_dir + \"2.라벨링데이터/서브라벨링/\"),\n",
    "        ])\n",
    "    ).alias(\"new_annotation_path\"),\n",
    ").rename({\"annotation_path\": \"old_annotation_path\"})"
   ]
  },
  {
   "cell_type": "code",
   "execution_count": 8,
   "metadata": {},
   "outputs": [
    {
     "data": {
      "text/plain": [
       "('/datasets/nia/old/2.라벨링데이터/서브라벨링/keypoint/CK_A01_R01_day_clear_01008462_F.png.json',\n",
       " '/datasets/nia/new/6.서브라벨링/1.Training/keypoint/CK_A01_R01_day_clear_01008462_F.png.json')"
      ]
     },
     "execution_count": 8,
     "metadata": {},
     "output_type": "execute_result"
    }
   ],
   "source": [
    "sub_df[\"old_annotation_path\"][0], sub_df[\"new_annotation_path\"][0]"
   ]
  },
  {
   "cell_type": "code",
   "execution_count": 38,
   "metadata": {},
   "outputs": [],
   "source": [
    "def move_file(source, destination):\n",
    "    source_path = Path(source)\n",
    "    destination_path = Path(destination)\n",
    "\n",
    "    destination_path.parent.mkdir(parents=True, exist_ok=True)\n",
    "\n",
    "    shutil.move(source_path, destination_path)\n",
    "\n",
    "\n",
    "def move_collection_file(row):\n",
    "    move_file(row[\"old_collection_path\"], row[\"new_collection_path\"])\n",
    "\n",
    "\n",
    "def move_annotation_file(row):\n",
    "    move_file(row[\"old_annotation_path\"], row[\"new_annotation_path\"])\n",
    "\n",
    "\n",
    "def copy_file(source, destination):\n",
    "    source_path = Path(source)\n",
    "    destination_path = Path(destination)\n",
    "\n",
    "    destination_path.parent.mkdir(parents=True, exist_ok=True)\n",
    "\n",
    "    shutil.copy2(source_path, destination_path)\n",
    "\n",
    "\n",
    "def copy_collection_file(row):\n",
    "    copy_file(row[\"old_collection_path\"], row[\"new_collection_path\"])"
   ]
  },
  {
   "cell_type": "code",
   "execution_count": 10,
   "metadata": {},
   "outputs": [],
   "source": [
    "with ThreadPoolExecutor(max_workers=128) as executor:\n",
    "    executor.map(copy_collection_file, sub_df.to_dicts())\n",
    "    executor.map(move_annotation_file, sub_df.to_dicts())\n",
    "    \n",
    "    executor.map(move_collection_file, main_df.to_dicts())\n",
    "    executor.map(move_annotation_file, main_df.to_dicts())\n",
    "    "
   ]
  }
 ],
 "metadata": {
  "kernelspec": {
   "display_name": "Python 3",
   "language": "python",
   "name": "python3"
  },
  "language_info": {
   "codemirror_mode": {
    "name": "ipython",
    "version": 3
   },
   "file_extension": ".py",
   "mimetype": "text/x-python",
   "name": "python",
   "nbconvert_exporter": "python",
   "pygments_lexer": "ipython3",
   "version": "3.10.12"
  }
 },
 "nbformat": 4,
 "nbformat_minor": 2
}
