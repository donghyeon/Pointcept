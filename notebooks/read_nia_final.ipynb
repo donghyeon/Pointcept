{
 "cells": [
  {
   "cell_type": "code",
   "execution_count": 1,
   "metadata": {},
   "outputs": [
    {
     "name": "stdout",
     "output_type": "stream",
     "text": [
      "Jupyter environment detected. Enabling Open3D WebVisualizer.\n",
      "[Open3D INFO] WebRTC GUI backend enabled.\n",
      "[Open3D INFO] WebRTCWindowSystem: HTTP handshake server disabled.\n"
     ]
    }
   ],
   "source": [
    "from pointcept.datasets.nia_dataset_reader import (\n",
    "    NiaDataPathExtractor,\n",
    "    DataFrameSplitter,\n",
    "    NiaDataPathProvider,\n",
    ")"
   ]
  },
  {
   "cell_type": "code",
   "execution_count": 2,
   "metadata": {},
   "outputs": [],
   "source": [
    "path_provider = NiaDataPathProvider(\n",
    "    reader=NiaDataPathExtractor(dataset_dir=\"/datasets/nia/\"),\n",
    "    splitter=DataFrameSplitter(\n",
    "        groups=[\"channel\", \"collector\", \"sensor\", \"code_1\", \"code_2\", \"timeslot\", \"weather\"],\n",
    "        splits=[\"train\", \"valid\", \"test\"],\n",
    "        ratios=[8, 1, 1],\n",
    "        seed=231111,\n",
    "    ),\n",
    "    channels=[\"image_B\", \"image_F\", \"image_L\", \"image_R\"],\n",
    ")"
   ]
  },
  {
   "cell_type": "markdown",
   "metadata": {},
   "source": [
    "### List of (collection_path, annotation_path) tuples"
   ]
  },
  {
   "cell_type": "code",
   "execution_count": 3,
   "metadata": {},
   "outputs": [
    {
     "data": {
      "text/plain": [
       "[('/datasets/nia/원천데이터/calib(K)/가시광이미지/image_B/CK_A01_R01_day_clear_01008462_B.png',\n",
       "  '/datasets/nia/라벨링데이터/calib(K)/가시광이미지/image_B/CK_A01_R01_day_clear_01008462_B.png.json'),\n",
       " ('/datasets/nia/원천데이터/calib(K)/가시광이미지/image_F/CK_A01_R01_day_clear_01008462_F.png',\n",
       "  '/datasets/nia/라벨링데이터/calib(K)/가시광이미지/image_F/CK_A01_R01_day_clear_01008462_F.png.json'),\n",
       " ('/datasets/nia/원천데이터/calib(K)/가시광이미지/image_L/CK_A01_R01_day_clear_01008462_L.png',\n",
       "  '/datasets/nia/라벨링데이터/calib(K)/가시광이미지/image_L/CK_A01_R01_day_clear_01008462_L.png.json'),\n",
       " ('/datasets/nia/원천데이터/calib(K)/가시광이미지/image_R/CK_A01_R01_day_clear_01008462_R.png',\n",
       "  '/datasets/nia/라벨링데이터/calib(K)/가시광이미지/image_R/CK_A01_R01_day_clear_01008462_R.png.json'),\n",
       " ('/datasets/nia/원천데이터/calib(K)/가시광이미지/image_B/CK_A01_R01_day_clear_01008463_B.png',\n",
       "  '/datasets/nia/라벨링데이터/calib(K)/가시광이미지/image_B/CK_A01_R01_day_clear_01008463_B.png.json')]"
      ]
     },
     "execution_count": 3,
     "metadata": {},
     "output_type": "execute_result"
    }
   ],
   "source": [
    "train_path_pairs = path_provider.get_split_data_list(\"train\")\n",
    "train_path_pairs[:5]"
   ]
  },
  {
   "cell_type": "markdown",
   "metadata": {},
   "source": [
    "### Pattern matched and paired data"
   ]
  },
  {
   "cell_type": "code",
   "execution_count": 4,
   "metadata": {},
   "outputs": [
    {
     "data": {
      "text/html": [
       "<div><style>\n",
       ".dataframe > thead > tr > th,\n",
       ".dataframe > tbody > tr > td {\n",
       "  text-align: right;\n",
       "  white-space: pre-wrap;\n",
       "}\n",
       "</style>\n",
       "<small>shape: (600_001, 12)</small><table border=\"1\" class=\"dataframe\"><thead><tr><th>stem</th><th>channel</th><th>type</th><th>collector</th><th>sensor</th><th>code_1</th><th>code_2</th><th>timeslot</th><th>weather</th><th>annotation_id</th><th>collection_path</th><th>annotation_path</th></tr><tr><td>str</td><td>str</td><td>str</td><td>str</td><td>str</td><td>str</td><td>str</td><td>str</td><td>str</td><td>str</td><td>str</td><td>str</td></tr></thead><tbody><tr><td>&quot;CK_A05_R01_day…</td><td>&quot;image_L&quot;</td><td>&quot;라벨링데이터&quot;</td><td>&quot;calib(K)&quot;</td><td>&quot;CK&quot;</td><td>&quot;A05&quot;</td><td>&quot;R01&quot;</td><td>&quot;day&quot;</td><td>&quot;clear&quot;</td><td>&quot;01008708&quot;</td><td>&quot;/datasets/nia/…</td><td>&quot;/datasets/nia/…</td></tr><tr><td>&quot;CK_A13_R03_erh…</td><td>&quot;image_L&quot;</td><td>&quot;라벨링데이터&quot;</td><td>&quot;calib(K)&quot;</td><td>&quot;CK&quot;</td><td>&quot;A13&quot;</td><td>&quot;R03&quot;</td><td>&quot;erh&quot;</td><td>&quot;rainy&quot;</td><td>&quot;01018526&quot;</td><td>&quot;/datasets/nia/…</td><td>&quot;/datasets/nia/…</td></tr><tr><td>&quot;CK_A08_R03_erh…</td><td>&quot;image_L&quot;</td><td>&quot;라벨링데이터&quot;</td><td>&quot;calib(K)&quot;</td><td>&quot;CK&quot;</td><td>&quot;A08&quot;</td><td>&quot;R03&quot;</td><td>&quot;erh&quot;</td><td>&quot;rainy&quot;</td><td>&quot;01021736&quot;</td><td>&quot;/datasets/nia/…</td><td>&quot;/datasets/nia/…</td></tr><tr><td>&quot;CK_A06_R01_mrh…</td><td>&quot;image_L&quot;</td><td>&quot;라벨링데이터&quot;</td><td>&quot;calib(K)&quot;</td><td>&quot;CK&quot;</td><td>&quot;A06&quot;</td><td>&quot;R01&quot;</td><td>&quot;mrh&quot;</td><td>&quot;clear&quot;</td><td>&quot;01027076&quot;</td><td>&quot;/datasets/nia/…</td><td>&quot;/datasets/nia/…</td></tr><tr><td>&quot;CK_A04_R03_aft…</td><td>&quot;image_L&quot;</td><td>&quot;라벨링데이터&quot;</td><td>&quot;calib(K)&quot;</td><td>&quot;CK&quot;</td><td>&quot;A04&quot;</td><td>&quot;R03&quot;</td><td>&quot;afterschool&quot;</td><td>&quot;clear&quot;</td><td>&quot;01039865&quot;</td><td>&quot;/datasets/nia/…</td><td>&quot;/datasets/nia/…</td></tr><tr><td>&quot;CK_A01_R04_aft…</td><td>&quot;image_L&quot;</td><td>&quot;라벨링데이터&quot;</td><td>&quot;calib(K)&quot;</td><td>&quot;CK&quot;</td><td>&quot;A01&quot;</td><td>&quot;R04&quot;</td><td>&quot;afterschool&quot;</td><td>&quot;clear&quot;</td><td>&quot;01061447&quot;</td><td>&quot;/datasets/nia/…</td><td>&quot;/datasets/nia/…</td></tr><tr><td>&quot;CK_A04_R05_day…</td><td>&quot;image_L&quot;</td><td>&quot;라벨링데이터&quot;</td><td>&quot;calib(K)&quot;</td><td>&quot;CK&quot;</td><td>&quot;A04&quot;</td><td>&quot;R05&quot;</td><td>&quot;day&quot;</td><td>&quot;clear&quot;</td><td>&quot;01010259&quot;</td><td>&quot;/datasets/nia/…</td><td>&quot;/datasets/nia/…</td></tr><tr><td>&quot;CK_A14_R03_erh…</td><td>&quot;image_L&quot;</td><td>&quot;라벨링데이터&quot;</td><td>&quot;calib(K)&quot;</td><td>&quot;CK&quot;</td><td>&quot;A14&quot;</td><td>&quot;R03&quot;</td><td>&quot;erh&quot;</td><td>&quot;rainy&quot;</td><td>&quot;99022911&quot;</td><td>&quot;/datasets/nia/…</td><td>&quot;/datasets/nia/…</td></tr><tr><td>&quot;CK_B12_R03_aft…</td><td>&quot;image_L&quot;</td><td>&quot;라벨링데이터&quot;</td><td>&quot;calib(K)&quot;</td><td>&quot;CK&quot;</td><td>&quot;B12&quot;</td><td>&quot;R03&quot;</td><td>&quot;afterschool&quot;</td><td>&quot;clear&quot;</td><td>&quot;01000222&quot;</td><td>&quot;/datasets/nia/…</td><td>&quot;/datasets/nia/…</td></tr><tr><td>&quot;CK_A13_R04_aft…</td><td>&quot;image_L&quot;</td><td>&quot;라벨링데이터&quot;</td><td>&quot;calib(K)&quot;</td><td>&quot;CK&quot;</td><td>&quot;A13&quot;</td><td>&quot;R04&quot;</td><td>&quot;afterschool&quot;</td><td>&quot;clear&quot;</td><td>&quot;01017667&quot;</td><td>&quot;/datasets/nia/…</td><td>&quot;/datasets/nia/…</td></tr><tr><td>&quot;CK_A05_R03_erh…</td><td>&quot;image_L&quot;</td><td>&quot;라벨링데이터&quot;</td><td>&quot;calib(K)&quot;</td><td>&quot;CK&quot;</td><td>&quot;A05&quot;</td><td>&quot;R03&quot;</td><td>&quot;erh&quot;</td><td>&quot;rainy&quot;</td><td>&quot;99022253&quot;</td><td>&quot;/datasets/nia/…</td><td>&quot;/datasets/nia/…</td></tr><tr><td>&quot;CK_B13_R04_aft…</td><td>&quot;image_L&quot;</td><td>&quot;라벨링데이터&quot;</td><td>&quot;calib(K)&quot;</td><td>&quot;CK&quot;</td><td>&quot;B13&quot;</td><td>&quot;R04&quot;</td><td>&quot;afterschool&quot;</td><td>&quot;clear&quot;</td><td>&quot;01001028&quot;</td><td>&quot;/datasets/nia/…</td><td>&quot;/datasets/nia/…</td></tr><tr><td>&hellip;</td><td>&hellip;</td><td>&hellip;</td><td>&hellip;</td><td>&hellip;</td><td>&hellip;</td><td>&hellip;</td><td>&hellip;</td><td>&hellip;</td><td>&hellip;</td><td>&hellip;</td><td>&hellip;</td></tr><tr><td>&quot;TV_A04_R01_nig…</td><td>&quot;thermal&quot;</td><td>&quot;라벨링데이터&quot;</td><td>&quot;calib(V)&quot;</td><td>&quot;TV&quot;</td><td>&quot;A04&quot;</td><td>&quot;R01&quot;</td><td>&quot;night&quot;</td><td>&quot;clear&quot;</td><td>&quot;01093556&quot;</td><td>&quot;/datasets/nia/…</td><td>&quot;/datasets/nia/…</td></tr><tr><td>&quot;TV_B12_R04_nig…</td><td>&quot;thermal&quot;</td><td>&quot;라벨링데이터&quot;</td><td>&quot;calib(V)&quot;</td><td>&quot;TV&quot;</td><td>&quot;B12&quot;</td><td>&quot;R04&quot;</td><td>&quot;night&quot;</td><td>&quot;clear&quot;</td><td>&quot;01094489&quot;</td><td>&quot;/datasets/nia/…</td><td>&quot;/datasets/nia/…</td></tr><tr><td>&quot;TV_A13_R03_aft…</td><td>&quot;thermal&quot;</td><td>&quot;라벨링데이터&quot;</td><td>&quot;calib(V)&quot;</td><td>&quot;TV&quot;</td><td>&quot;A13&quot;</td><td>&quot;R03&quot;</td><td>&quot;afterschool&quot;</td><td>&quot;clear&quot;</td><td>&quot;01126446&quot;</td><td>&quot;/datasets/nia/…</td><td>&quot;/datasets/nia/…</td></tr><tr><td>&quot;TV_A04_R04_aft…</td><td>&quot;thermal&quot;</td><td>&quot;라벨링데이터&quot;</td><td>&quot;calib(V)&quot;</td><td>&quot;TV&quot;</td><td>&quot;A04&quot;</td><td>&quot;R04&quot;</td><td>&quot;afterschool&quot;</td><td>&quot;clear&quot;</td><td>&quot;01126179&quot;</td><td>&quot;/datasets/nia/…</td><td>&quot;/datasets/nia/…</td></tr><tr><td>&quot;TV_A06_R01_day…</td><td>&quot;thermal&quot;</td><td>&quot;라벨링데이터&quot;</td><td>&quot;calib(V)&quot;</td><td>&quot;TV&quot;</td><td>&quot;A06&quot;</td><td>&quot;R01&quot;</td><td>&quot;day&quot;</td><td>&quot;clear&quot;</td><td>&quot;01050759&quot;</td><td>&quot;/datasets/nia/…</td><td>&quot;/datasets/nia/…</td></tr><tr><td>&quot;TV_A05_R03_nig…</td><td>&quot;thermal&quot;</td><td>&quot;라벨링데이터&quot;</td><td>&quot;calib(V)&quot;</td><td>&quot;TV&quot;</td><td>&quot;A05&quot;</td><td>&quot;R03&quot;</td><td>&quot;night&quot;</td><td>&quot;clear&quot;</td><td>&quot;01092709&quot;</td><td>&quot;/datasets/nia/…</td><td>&quot;/datasets/nia/…</td></tr><tr><td>&quot;TV_A04_R03_day…</td><td>&quot;thermal&quot;</td><td>&quot;라벨링데이터&quot;</td><td>&quot;calib(V)&quot;</td><td>&quot;TV&quot;</td><td>&quot;A04&quot;</td><td>&quot;R03&quot;</td><td>&quot;day&quot;</td><td>&quot;clear&quot;</td><td>&quot;01051889&quot;</td><td>&quot;/datasets/nia/…</td><td>&quot;/datasets/nia/…</td></tr><tr><td>&quot;TV_A04_R05_nig…</td><td>&quot;thermal&quot;</td><td>&quot;라벨링데이터&quot;</td><td>&quot;calib(V)&quot;</td><td>&quot;TV&quot;</td><td>&quot;A04&quot;</td><td>&quot;R05&quot;</td><td>&quot;night&quot;</td><td>&quot;clear&quot;</td><td>&quot;01095602&quot;</td><td>&quot;/datasets/nia/…</td><td>&quot;/datasets/nia/…</td></tr><tr><td>&quot;TV_A13_R03_nig…</td><td>&quot;thermal&quot;</td><td>&quot;라벨링데이터&quot;</td><td>&quot;calib(V)&quot;</td><td>&quot;TV&quot;</td><td>&quot;A13&quot;</td><td>&quot;R03&quot;</td><td>&quot;night&quot;</td><td>&quot;foggy&quot;</td><td>&quot;01102477&quot;</td><td>&quot;/datasets/nia/…</td><td>&quot;/datasets/nia/…</td></tr><tr><td>&quot;TV_B12_R05_nig…</td><td>&quot;thermal&quot;</td><td>&quot;라벨링데이터&quot;</td><td>&quot;calib(V)&quot;</td><td>&quot;TV&quot;</td><td>&quot;B12&quot;</td><td>&quot;R05&quot;</td><td>&quot;night&quot;</td><td>&quot;clear&quot;</td><td>&quot;01095123&quot;</td><td>&quot;/datasets/nia/…</td><td>&quot;/datasets/nia/…</td></tr><tr><td>&quot;TV_A05_R01_nig…</td><td>&quot;thermal&quot;</td><td>&quot;라벨링데이터&quot;</td><td>&quot;calib(V)&quot;</td><td>&quot;TV&quot;</td><td>&quot;A05&quot;</td><td>&quot;R01&quot;</td><td>&quot;night&quot;</td><td>&quot;clear&quot;</td><td>&quot;01101651&quot;</td><td>&quot;/datasets/nia/…</td><td>&quot;/datasets/nia/…</td></tr><tr><td>&quot;TV_B13_R03_nig…</td><td>&quot;thermal&quot;</td><td>&quot;라벨링데이터&quot;</td><td>&quot;calib(V)&quot;</td><td>&quot;TV&quot;</td><td>&quot;B13&quot;</td><td>&quot;R03&quot;</td><td>&quot;night&quot;</td><td>&quot;foggy&quot;</td><td>&quot;01104263&quot;</td><td>&quot;/datasets/nia/…</td><td>&quot;/datasets/nia/…</td></tr></tbody></table></div>"
      ],
      "text/plain": [
       "shape: (600_001, 12)\n",
       "┌────────────┬─────────┬────────────┬───────────┬───┬─────────┬────────────┬───────────┬───────────┐\n",
       "│ stem       ┆ channel ┆ type       ┆ collector ┆ … ┆ weather ┆ annotation ┆ collectio ┆ annotatio │\n",
       "│ ---        ┆ ---     ┆ ---        ┆ ---       ┆   ┆ ---     ┆ _id        ┆ n_path    ┆ n_path    │\n",
       "│ str        ┆ str     ┆ str        ┆ str       ┆   ┆ str     ┆ ---        ┆ ---       ┆ ---       │\n",
       "│            ┆         ┆            ┆           ┆   ┆         ┆ str        ┆ str       ┆ str       │\n",
       "╞════════════╪═════════╪════════════╪═══════════╪═══╪═════════╪════════════╪═══════════╪═══════════╡\n",
       "│ CK_A05_R01 ┆ image_L ┆ 라벨링데이 ┆ calib(K)  ┆ … ┆ clear   ┆ 01008708   ┆ /datasets ┆ /datasets │\n",
       "│ _day_clear ┆         ┆ 터         ┆           ┆   ┆         ┆            ┆ /nia/원천 ┆ /nia/라벨 │\n",
       "│ _01008708_ ┆         ┆            ┆           ┆   ┆         ┆            ┆ 데이터/ca ┆ 링데이터/ │\n",
       "│ L          ┆         ┆            ┆           ┆   ┆         ┆            ┆ lib(K)/가 ┆ calib(K)/ │\n",
       "│            ┆         ┆            ┆           ┆   ┆         ┆            ┆ 시광…     ┆ 가시…     │\n",
       "│ CK_A13_R03 ┆ image_L ┆ 라벨링데이 ┆ calib(K)  ┆ … ┆ rainy   ┆ 01018526   ┆ /datasets ┆ /datasets │\n",
       "│ _erh_rainy ┆         ┆ 터         ┆           ┆   ┆         ┆            ┆ /nia/원천 ┆ /nia/라벨 │\n",
       "│ _01018526_ ┆         ┆            ┆           ┆   ┆         ┆            ┆ 데이터/ca ┆ 링데이터/ │\n",
       "│ L          ┆         ┆            ┆           ┆   ┆         ┆            ┆ lib(K)/가 ┆ calib(K)/ │\n",
       "│            ┆         ┆            ┆           ┆   ┆         ┆            ┆ 시광…     ┆ 가시…     │\n",
       "│ CK_A08_R03 ┆ image_L ┆ 라벨링데이 ┆ calib(K)  ┆ … ┆ rainy   ┆ 01021736   ┆ /datasets ┆ /datasets │\n",
       "│ _erh_rainy ┆         ┆ 터         ┆           ┆   ┆         ┆            ┆ /nia/원천 ┆ /nia/라벨 │\n",
       "│ _01021736_ ┆         ┆            ┆           ┆   ┆         ┆            ┆ 데이터/ca ┆ 링데이터/ │\n",
       "│ L          ┆         ┆            ┆           ┆   ┆         ┆            ┆ lib(K)/가 ┆ calib(K)/ │\n",
       "│            ┆         ┆            ┆           ┆   ┆         ┆            ┆ 시광…     ┆ 가시…     │\n",
       "│ CK_A06_R01 ┆ image_L ┆ 라벨링데이 ┆ calib(K)  ┆ … ┆ clear   ┆ 01027076   ┆ /datasets ┆ /datasets │\n",
       "│ _mrh_clear ┆         ┆ 터         ┆           ┆   ┆         ┆            ┆ /nia/원천 ┆ /nia/라벨 │\n",
       "│ _01027076_ ┆         ┆            ┆           ┆   ┆         ┆            ┆ 데이터/ca ┆ 링데이터/ │\n",
       "│ L          ┆         ┆            ┆           ┆   ┆         ┆            ┆ lib(K)/가 ┆ calib(K)/ │\n",
       "│            ┆         ┆            ┆           ┆   ┆         ┆            ┆ 시광…     ┆ 가시…     │\n",
       "│ …          ┆ …       ┆ …          ┆ …         ┆ … ┆ …       ┆ …          ┆ …         ┆ …         │\n",
       "│ TV_A13_R03 ┆ thermal ┆ 라벨링데이 ┆ calib(V)  ┆ … ┆ foggy   ┆ 01102477   ┆ /datasets ┆ /datasets │\n",
       "│ _night_fog ┆         ┆ 터         ┆           ┆   ┆         ┆            ┆ /nia/원천 ┆ /nia/라벨 │\n",
       "│ gy_0110247 ┆         ┆            ┆           ┆   ┆         ┆            ┆ 데이터/ca ┆ 링데이터/ │\n",
       "│ 7          ┆         ┆            ┆           ┆   ┆         ┆            ┆ lib(V)/열 ┆ calib(V)/ │\n",
       "│            ┆         ┆            ┆           ┆   ┆         ┆            ┆ 화상…     ┆ 열화…     │\n",
       "│ TV_B12_R05 ┆ thermal ┆ 라벨링데이 ┆ calib(V)  ┆ … ┆ clear   ┆ 01095123   ┆ /datasets ┆ /datasets │\n",
       "│ _night_cle ┆         ┆ 터         ┆           ┆   ┆         ┆            ┆ /nia/원천 ┆ /nia/라벨 │\n",
       "│ ar_0109512 ┆         ┆            ┆           ┆   ┆         ┆            ┆ 데이터/ca ┆ 링데이터/ │\n",
       "│ 3          ┆         ┆            ┆           ┆   ┆         ┆            ┆ lib(V)/열 ┆ calib(V)/ │\n",
       "│            ┆         ┆            ┆           ┆   ┆         ┆            ┆ 화상…     ┆ 열화…     │\n",
       "│ TV_A05_R01 ┆ thermal ┆ 라벨링데이 ┆ calib(V)  ┆ … ┆ clear   ┆ 01101651   ┆ /datasets ┆ /datasets │\n",
       "│ _night_cle ┆         ┆ 터         ┆           ┆   ┆         ┆            ┆ /nia/원천 ┆ /nia/라벨 │\n",
       "│ ar_0110165 ┆         ┆            ┆           ┆   ┆         ┆            ┆ 데이터/ca ┆ 링데이터/ │\n",
       "│ 1          ┆         ┆            ┆           ┆   ┆         ┆            ┆ lib(V)/열 ┆ calib(V)/ │\n",
       "│            ┆         ┆            ┆           ┆   ┆         ┆            ┆ 화상…     ┆ 열화…     │\n",
       "│ TV_B13_R03 ┆ thermal ┆ 라벨링데이 ┆ calib(V)  ┆ … ┆ foggy   ┆ 01104263   ┆ /datasets ┆ /datasets │\n",
       "│ _night_fog ┆         ┆ 터         ┆           ┆   ┆         ┆            ┆ /nia/원천 ┆ /nia/라벨 │\n",
       "│ gy_0110426 ┆         ┆            ┆           ┆   ┆         ┆            ┆ 데이터/ca ┆ 링데이터/ │\n",
       "│ 3          ┆         ┆            ┆           ┆   ┆         ┆            ┆ lib(V)/열 ┆ calib(V)/ │\n",
       "│            ┆         ┆            ┆           ┆   ┆         ┆            ┆ 화상…     ┆ 열화…     │\n",
       "└────────────┴─────────┴────────────┴───────────┴───┴─────────┴────────────┴───────────┴───────────┘"
      ]
     },
     "execution_count": 4,
     "metadata": {},
     "output_type": "execute_result"
    }
   ],
   "source": [
    "extractor = NiaDataPathExtractor()\n",
    "extractor.df"
   ]
  }
 ],
 "metadata": {
  "kernelspec": {
   "display_name": "Python 3",
   "language": "python",
   "name": "python3"
  },
  "language_info": {
   "codemirror_mode": {
    "name": "ipython",
    "version": 3
   },
   "file_extension": ".py",
   "mimetype": "text/x-python",
   "name": "python",
   "nbconvert_exporter": "python",
   "pygments_lexer": "ipython3",
   "version": "3.10.12"
  }
 },
 "nbformat": 4,
 "nbformat_minor": 2
}
